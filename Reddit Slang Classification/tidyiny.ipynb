{
 "cells": [
  {
   "cell_type": "code",
   "execution_count": 17,
   "id": "57e8d091",
   "metadata": {},
   "outputs": [],
   "source": [
    "import pandas as pd\n",
    "# Load the dataset\n",
    "file_path = 'labelled.csv'\n",
    "df = pd.read_csv(file_path)\n"
   ]
  },
  {
   "cell_type": "code",
   "execution_count": 19,
   "id": "9f96adaa",
   "metadata": {},
   "outputs": [
    {
     "name": "stdout",
     "output_type": "stream",
     "text": [
      "\n",
      "Unique values in 'Category' column:\n",
      "['No Slang' 'Offensive Slang' 'Internet Slang' 'Casual Slang']\n"
     ]
    }
   ],
   "source": [
    "# Get the unique values of 'B' column\n",
    "import pandas as pd\n",
    "import re\n",
    "# df['Category'] = df['Category'].apply(lambda x: re.sub(r'\\(.*?\\)', '', x).strip())\n",
    "unique_values = df['Category'].unique()\n",
    "\n",
    "# Print the unique values\n",
    "print(\"\\nUnique values in 'Category' column:\")\n",
    "print(unique_values)"
   ]
  },
  {
   "cell_type": "code",
   "execution_count": 16,
   "id": "fa2cadab",
   "metadata": {},
   "outputs": [],
   "source": [
    "df[[\"Text\",\"Date\",\"Upvotes\",\"Subreddit\",\"Category\"]].to_csv('labelled.csv', index=False)"
   ]
  },
  {
   "cell_type": "code",
   "execution_count": null,
   "id": "acc3b359",
   "metadata": {},
   "outputs": [],
   "source": [
    "# Get the unique values of 'B' column\n",
    "unique_values = df['Category'].unique()\n",
    "\n",
    "# Print the unique values\n",
    "print(\"\\nUnique values in 'Category' column:\")\n",
    "print(unique_values)"
   ]
  }
 ],
 "metadata": {
  "kernelspec": {
   "display_name": ".venv",
   "language": "python",
   "name": "python3"
  },
  "language_info": {
   "codemirror_mode": {
    "name": "ipython",
    "version": 3
   },
   "file_extension": ".py",
   "mimetype": "text/x-python",
   "name": "python",
   "nbconvert_exporter": "python",
   "pygments_lexer": "ipython3",
   "version": "3.12.3"
  }
 },
 "nbformat": 4,
 "nbformat_minor": 5
}
