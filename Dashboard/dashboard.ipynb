{
 "cells": [
  {
   "cell_type": "code",
   "execution_count": null,
   "id": "35f3c8a8",
   "metadata": {},
   "outputs": [
    {
     "name": "stderr",
     "output_type": "stream",
     "text": [
      "2025-05-24 21:48:26.104 WARNING streamlit.runtime.scriptrunner_utils.script_run_context: Thread 'MainThread': missing ScriptRunContext! This warning can be ignored when running in bare mode.\n",
      "2025-05-24 21:48:26.873 \n",
      "  \u001b[33m\u001b[1mWarning:\u001b[0m to view this Streamlit app on a browser, run it with the following\n",
      "  command:\n",
      "\n",
      "    streamlit run c:\\personal\\Code\\S6\\NLP\\Natural-Languange_Processing\\.venv\\Lib\\site-packages\\ipykernel_launcher.py [ARGUMENTS]\n",
      "2025-05-24 21:48:26.875 Thread 'MainThread': missing ScriptRunContext! This warning can be ignored when running in bare mode.\n",
      "2025-05-24 21:48:26.878 Thread 'MainThread': missing ScriptRunContext! This warning can be ignored when running in bare mode.\n",
      "2025-05-24 21:48:26.879 Thread 'MainThread': missing ScriptRunContext! This warning can be ignored when running in bare mode.\n"
     ]
    }
   ],
   "source": [
    "import streamlit as st\n",
    "import os\n",
    "import joblib\n",
    "from sklearn.naive_bayes import MultinomialNB\n",
    "from sklearn.metrics import classification_report, accuracy_score, confusion_matrix\n",
    "import seaborn as sns\n",
    "import matplotlib.pyplot as plt\n",
    "\n",
    "# Assume X_train, X_test, y_train, y_test are defined or loaded here\n",
    "# For demo purpose, you need to replace this with your actual data loading code\n",
    "# Example:\n",
    "# from your_data_module import X_train, X_test, y_train, y_test\n",
    "\n",
    "MODEL_PATH = \"naive_bayes_model.pkl\"\n",
    "\n",
    "def print_score(clf, X_train, y_train, X_test, y_test, train=True):\n",
    "    if train:\n",
    "        pred = clf.predict(X_train)\n",
    "        data = \"Train\"\n",
    "        true_labels = y_train\n",
    "    else:\n",
    "        pred = clf.predict(X_test)\n",
    "        data = \"Test\"\n",
    "        true_labels = y_test\n",
    "    \n",
    "    acc = accuracy_score(true_labels, pred)\n",
    "    st.write(f\"### {data} Accuracy: {acc:.4f}\")\n",
    "    st.write(f\"### {data} Classification Report\")\n",
    "    st.text(classification_report(true_labels, pred))\n",
    "    \n",
    "    cm = confusion_matrix(true_labels, pred)\n",
    "    fig, ax = plt.subplots()\n",
    "    sns.heatmap(cm, annot=True, fmt='d', ax=ax)\n",
    "    ax.set_xlabel('Predicted')\n",
    "    ax.set_ylabel('Actual')\n",
    "    ax.set_title(f'{data} Confusion Matrix')\n",
    "    st.pyplot(fig)\n",
    "\n",
    "def main():\n",
    "    st.title(\"Naive Bayes Model Dashboard with Saving/Loading\")\n",
    "\n",
    "    # Load or train model\n",
    "    if os.path.exists(MODEL_PATH):\n",
    "        nb_clf = joblib.load(MODEL_PATH)\n",
    "        st.success(\"Loaded existing Naive Bayes model.\")\n",
    "    else:\n",
    "        st.info(\"Training Naive Bayes model, please wait...\")\n",
    "        nb_clf = MultinomialNB()\n",
    "        nb_clf.fit(X_train, y_train)\n",
    "        joblib.dump(nb_clf, MODEL_PATH)\n",
    "        st.success(\"Model trained and saved!\")\n",
    "\n",
    "    # Show evaluation metrics\n",
    "    print_score(nb_clf, X_train, y_train, X_test, y_test, train=True)\n",
    "    print_score(nb_clf, X_train, y_train, X_test, y_test, train=False)\n",
    "\n",
    "    # Optional: add prediction on new input here if you want\n",
    "\n",
    "if __name__ == \"__main__\":\n",
    "    main()\n"
   ]
  }
 ],
 "metadata": {
  "kernelspec": {
   "display_name": ".venv",
   "language": "python",
   "name": "python3"
  },
  "language_info": {
   "codemirror_mode": {
    "name": "ipython",
    "version": 3
   },
   "file_extension": ".py",
   "mimetype": "text/x-python",
   "name": "python",
   "nbconvert_exporter": "python",
   "pygments_lexer": "ipython3",
   "version": "3.12.3"
  }
 },
 "nbformat": 4,
 "nbformat_minor": 5
}
