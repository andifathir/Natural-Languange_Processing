{
 "cells": [
  {
   "cell_type": "code",
   "execution_count": 1,
   "id": "35f3c8a8",
   "metadata": {},
   "outputs": [
    {
     "ename": "ModuleNotFoundError",
     "evalue": "No module named 'streamlit'",
     "output_type": "error",
     "traceback": [
      "\u001b[31m---------------------------------------------------------------------------\u001b[39m",
      "\u001b[31mModuleNotFoundError\u001b[39m                       Traceback (most recent call last)",
      "\u001b[36mCell\u001b[39m\u001b[36m \u001b[39m\u001b[32mIn[1]\u001b[39m\u001b[32m, line 1\u001b[39m\n\u001b[32m----> \u001b[39m\u001b[32m1\u001b[39m \u001b[38;5;28;01mimport\u001b[39;00m\u001b[38;5;250m \u001b[39m\u001b[34;01mstreamlit\u001b[39;00m\u001b[38;5;250m \u001b[39m\u001b[38;5;28;01mas\u001b[39;00m\u001b[38;5;250m \u001b[39m\u001b[34;01mst\u001b[39;00m\n\u001b[32m      2\u001b[39m \u001b[38;5;28;01mfrom\u001b[39;00m\u001b[38;5;250m \u001b[39m\u001b[34;01msklearn\u001b[39;00m\u001b[34;01m.\u001b[39;00m\u001b[34;01mnaive_bayes\u001b[39;00m\u001b[38;5;250m \u001b[39m\u001b[38;5;28;01mimport\u001b[39;00m MultinomialNB\n\u001b[32m      3\u001b[39m \u001b[38;5;28;01mfrom\u001b[39;00m\u001b[38;5;250m \u001b[39m\u001b[34;01msklearn\u001b[39;00m\u001b[34;01m.\u001b[39;00m\u001b[34;01mmetrics\u001b[39;00m\u001b[38;5;250m \u001b[39m\u001b[38;5;28;01mimport\u001b[39;00m classification_report, accuracy_score, confusion_matrix\n",
      "\u001b[31mModuleNotFoundError\u001b[39m: No module named 'streamlit'"
     ]
    }
   ],
   "source": [
    "import streamlit as st\n",
    "from sklearn.naive_bayes import MultinomialNB\n",
    "from sklearn.metrics import classification_report, accuracy_score, confusion_matrix\n",
    "import pandas as pd\n",
    "import seaborn as sns\n",
    "import matplotlib.pyplot as plt\n",
    "\n",
    "# Function to display evaluation results\n",
    "def print_score(clf, X_train, y_train, X_test, y_test, train=True):\n",
    "    if train:\n",
    "        pred = clf.predict(X_train)\n",
    "        data = \"Train\"\n",
    "    else:\n",
    "        pred = clf.predict(X_test)\n",
    "        data = \"Test\"\n",
    "    \n",
    "    acc = accuracy_score(y_test if not train else y_train, pred)\n",
    "    report = classification_report(y_test if not train else y_train, pred, output_dict=True)\n",
    "    \n",
    "    st.write(f\"### {data} Accuracy: {acc:.4f}\")\n",
    "    st.write(f\"### {data} Classification Report\")\n",
    "    st.text(classification_report(y_test if not train else y_train, pred))\n",
    "    \n",
    "    cm = confusion_matrix(y_test if not train else y_train, pred)\n",
    "    fig, ax = plt.subplots()\n",
    "    sns.heatmap(cm, annot=True, fmt='d', ax=ax)\n",
    "    ax.set_xlabel('Predicted')\n",
    "    ax.set_ylabel('Actual')\n",
    "    ax.set_title(f'{data} Confusion Matrix')\n",
    "    st.pyplot(fig)\n",
    "\n",
    "# Streamlit app\n",
    "def main():\n",
    "    st.title(\"Naive Bayes Classification Dashboard\")\n",
    "\n",
    "    # Train model on button click\n",
    "    if st.button(\"Train Naive Bayes Model\"):\n",
    "        nb_clf = MultinomialNB()\n",
    "        nb_clf.fit(X_train, y_train)\n",
    "        st.success(\"Model trained successfully!\")\n",
    "        \n",
    "        # Show train metrics\n",
    "        print_score(nb_clf, X_train, y_train, X_test, y_test, train=True)\n",
    "        # Show test metrics\n",
    "        print_score(nb_clf, X_train, y_train, X_test, y_test, train=False)\n",
    "        \n",
    "        # Optionally, save the model or expose other controls here\n",
    "    \n",
    "if __name__ == \"__main__\":\n",
    "    main()\n"
   ]
  }
 ],
 "metadata": {
  "kernelspec": {
   "display_name": ".venv",
   "language": "python",
   "name": "python3"
  },
  "language_info": {
   "codemirror_mode": {
    "name": "ipython",
    "version": 3
   },
   "file_extension": ".py",
   "mimetype": "text/x-python",
   "name": "python",
   "nbconvert_exporter": "python",
   "pygments_lexer": "ipython3",
   "version": "3.12.3"
  }
 },
 "nbformat": 4,
 "nbformat_minor": 5
}
