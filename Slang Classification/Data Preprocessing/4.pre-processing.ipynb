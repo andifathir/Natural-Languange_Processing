{
 "cells": [
  {
   "cell_type": "markdown",
   "id": "ce365b45",
   "metadata": {},
   "source": [
    "## Data Integration merge all text"
   ]
  },
  {
   "cell_type": "code",
   "execution_count": null,
   "id": "e34dfbc0",
   "metadata": {},
   "outputs": [],
   "source": [
    "import pandas as pd\n",
    "import ast\n",
    "from datetime import datetime, timezone\n",
    "\n",
    "df = pd.read_csv('Original Data.csv')  # Replace 'your_file.csv' with your actual file path\n",
    "\n",
    "# Create DataFrame\n",
    "post_data = pd.DataFrame(df)\n",
    "\n",
    "# Step 1: Combine Title, Text, and Comments Data into separate rows\n",
    "\n",
    "# Convert Comments Data from string format to list\n",
    "post_data['Comments Data'] = post_data['Comments Data'].apply(ast.literal_eval)\n",
    "\n",
    "# Prepare the DataFrame for expanding to multiple rows\n",
    "expanded_data = []\n",
    "\n",
    "# Add the Title and Text as separate rows\n",
    "for _, row in post_data.iterrows():\n",
    "    # Add the title as a row\n",
    "    expanded_data.append({'Text': row['Title'], 'Category': 'No Slang', 'Date': datetime.fromtimestamp(row['Timestamp'], tz=timezone.utc).strftime('%Y-%m-%d %H:%M:%S'), 'Upvotes': row['Upvotes'], 'Subreddit': row['Subreddit']})\n",
    "    \n",
    "    # Add the text (if available)\n",
    "    if row['Text']:\n",
    "        expanded_data.append({'Text': row['Text'], 'Category': 'No Slang', 'Date': datetime.fromtimestamp(row['Timestamp'], tz=timezone.utc).strftime('%Y-%m-%d %H:%M:%S'), 'Upvotes': row['Upvotes'], 'Subreddit': row['Subreddit']})\n",
    "    \n",
    "    # Add each comment as a separate row\n",
    "    for comment in row['Comments Data']:\n",
    "        expanded_data.append({'Text': comment[0], 'Category': 'No Slang', 'Date': datetime.fromtimestamp(comment[2], tz=timezone.utc).strftime('%Y-%m-%d %H:%M:%S'), 'Upvotes': comment[1], 'Subreddit': row['Subreddit']})\n",
    "\n",
    "# Create the expanded DataFrame\n",
    "expanded_df = pd.DataFrame(expanded_data)\n",
    "\n",
    "expanded_df.to_csv('merge_all_text.csv', index=False)  # Saves the cleaned data to a new file\n",
    "\n",
    "print(expanded_df)\n",
    "\n"
   ]
  },
  {
   "cell_type": "markdown",
   "id": "096145ca",
   "metadata": {},
   "source": [
    "## Reduce rows from 100000 to 10000"
   ]
  },
  {
   "cell_type": "code",
   "execution_count": 61,
   "id": "bb663f15",
   "metadata": {},
   "outputs": [
    {
     "name": "stdout",
     "output_type": "stream",
     "text": [
      "Data reduced and saved to reduced_output.csv\n"
     ]
    }
   ],
   "source": [
    "import pandas as pd\n",
    "\n",
    "def reduce_csv_to_1000_rows(input_csv, output_csv):\n",
    "    # Read the CSV file\n",
    "    df = pd.read_csv(input_csv)\n",
    "\n",
    "    # If the dataset has more than 1000 rows, randomly sample 1000 rows\n",
    "    if len(df) > 1000:\n",
    "        df_reduced = df.sample(n=7100, random_state=42)  # random_state for reproducibility\n",
    "    else:\n",
    "        df_reduced = df  # if there are fewer than 1000 rows, keep all rows\n",
    "\n",
    "    # Save the reduced dataset to a new CSV file\n",
    "    df_reduced[[\"Text\", \"Subreddit\", \"Category\"]].to_csv(output_csv, index=False)\n",
    "\n",
    "    print(f\"Data reduced and saved to {output_csv}\")\n",
    "\n",
    "# Example usage\n",
    "input_csv = 'C:/personal/Code/S6/NLP/Slang Classification/Datas/merge_all_text.csv'  # Replace with your input CSV file path\n",
    "output_csv = 'reduced_output.csv'  # Replace with your desired output file path\n",
    "reduce_csv_to_1000_rows(input_csv, output_csv)\n"
   ]
  },
  {
   "cell_type": "markdown",
   "id": "15b43d3a",
   "metadata": {},
   "source": [
    "# Reduce again for labeling"
   ]
  },
  {
   "cell_type": "code",
   "execution_count": 5,
   "id": "88449c91",
   "metadata": {},
   "outputs": [],
   "source": [
    "import pandas as pd\n",
    "import re\n",
    "import nltk\n",
    "from nltk.corpus import stopwords\n",
    "from nltk.stem import PorterStemmer, WordNetLemmatizer\n",
    "from sklearn.feature_extraction.text import CountVectorizer, TfidfVectorizer"
   ]
  },
  {
   "cell_type": "code",
   "execution_count": 22,
   "id": "6092f420",
   "metadata": {},
   "outputs": [
    {
     "name": "stdout",
     "output_type": "stream",
     "text": [
      "<class 'pandas.core.frame.DataFrame'>\n",
      "RangeIndex: 10000 entries, 0 to 9999\n",
      "Data columns (total 3 columns):\n",
      " #   Column     Non-Null Count  Dtype \n",
      "---  ------     --------------  ----- \n",
      " 0   Text       9939 non-null   object\n",
      " 1   Subreddit  10000 non-null  object\n",
      " 2   Category   10000 non-null  object\n",
      "dtypes: object(3)\n",
      "memory usage: 234.5+ KB\n"
     ]
    }
   ],
   "source": [
    "# Load the dataset\n",
    "file_path = 'reduced_output_10000.csv'\n",
    "df = pd.read_csv(file_path)\n",
    "\n",
    "text_column = 'Text'  # Replace with the actual column name containing text\n",
    "label_column = 'Category'  # Replace with the actual label column name\n",
    "\n",
    "# Show the first few rows of the dataset\n",
    "df.info()"
   ]
  },
  {
   "cell_type": "code",
   "execution_count": null,
   "id": "3386fec4",
   "metadata": {},
   "outputs": [],
   "source": [
    "df = df.dropna(subset=['Text'])\n",
    "df = df.drop_duplicates()"
   ]
  },
  {
   "cell_type": "markdown",
   "id": "02b66fc6",
   "metadata": {},
   "source": [
    "## Cleaning data for labeling"
   ]
  },
  {
   "cell_type": "code",
   "execution_count": 23,
   "id": "ec7fbea8",
   "metadata": {},
   "outputs": [],
   "source": [
    "# 1. Case Folding\n",
    "def case_folding(text):\n",
    "    if isinstance(text, str):  # Check if the value is a string\n",
    "        return text.lower()\n",
    "    else:\n",
    "        return \"\"  # Return an empty string for non-string values"
   ]
  },
  {
   "cell_type": "code",
   "execution_count": 24,
   "id": "29b6265e",
   "metadata": {},
   "outputs": [],
   "source": [
    "# 2. Data Cleaning (remove unwanted characters)\n",
    "def clean_text(text):\n",
    "    # Remove HTML tags, URLs, mentions (@user), hashtags (#), emojis, digits, and punctuation\n",
    "    text = re.sub(r'<.*?>', '', text)  # Remove HTML tags\n",
    "    text = re.sub(r'http\\S+', '', text)  # Remove URLs\n",
    "    text = re.sub(r'@\\w+', '', text)  # Remove mentions\n",
    "    text = re.sub(r'#\\w+', '', text)  # Remove hashtags\n",
    "    text = re.sub(r'[^\\w\\s]', '', text)  # Remove punctuation\n",
    "    text = re.sub(r'\\d+', '', text)  # Remove digits\n",
    "    text = re.sub(r'[\\U00010000-\\U0010ffff]', '', text)  # Remove emojis\n",
    "    text = re.sub(r\"http\\S+|www\\S+|https\\S+\", \"\", text)  # hapus URL\n",
    "    # text = re.sub(r\"[^a-z\\s]\", \"\", text)  # hapus semua non-huruf\n",
    "    text = re.sub(r\"\\s+\", \" \", text).strip()  # hapus spasi berlebih\n",
    "    return text"
   ]
  },
  {
   "cell_type": "code",
   "execution_count": 25,
   "id": "084fc8c5",
   "metadata": {},
   "outputs": [],
   "source": [
    "# Apply all steps to the dataset\n",
    "def preprocess_text(text):\n",
    "    text = case_folding(text)  # Step 1: Case folding\n",
    "    text = clean_text(text)  # Step 2: Data cleaning\n",
    "    return text"
   ]
  },
  {
   "cell_type": "code",
   "execution_count": 26,
   "id": "ce8334e8",
   "metadata": {},
   "outputs": [],
   "source": [
    "# Apply preprocessing to each row in the dataset\n",
    "df['Text'] = df[text_column].apply(preprocess_text)"
   ]
  },
  {
   "cell_type": "code",
   "execution_count": 27,
   "id": "ea720412",
   "metadata": {},
   "outputs": [],
   "source": [
    "df = df.sample(n=2000, random_state=42)  # random_state for reproducibility"
   ]
  },
  {
   "cell_type": "code",
   "execution_count": 28,
   "id": "d55a5fb3",
   "metadata": {},
   "outputs": [],
   "source": [
    "df[[\"Text\", \"Subreddit\", \"Category\"]].to_csv('ready_for_labelling.csv', index=False)"
   ]
  },
  {
   "cell_type": "markdown",
   "id": "b6ad3aeb",
   "metadata": {},
   "source": [
    "# Dataset Load"
   ]
  },
  {
   "cell_type": "code",
   "execution_count": 1,
   "id": "88e98820",
   "metadata": {},
   "outputs": [],
   "source": [
    "import pandas as pd\n",
    "import re\n",
    "import nltk\n",
    "from nltk.corpus import stopwords\n",
    "from nltk.stem import PorterStemmer, WordNetLemmatizer\n",
    "from sklearn.feature_extraction.text import CountVectorizer, TfidfVectorizer"
   ]
  },
  {
   "cell_type": "code",
   "execution_count": null,
   "id": "efb55805",
   "metadata": {},
   "outputs": [],
   "source": [
    "# Load the dataset\n",
    "file_path = 'reduced_output_10000'\n",
    "df = pd.read_csv(file_path)\n",
    "\n",
    "text_column = 'Text'  # Replace with the actual column name containing text\n",
    "label_column = 'Category'  # Replace with the actual label column name\n",
    "\n",
    "# Show the first few rows of the dataset\n",
    "df.head()"
   ]
  },
  {
   "cell_type": "code",
   "execution_count": null,
   "id": "4690db6c",
   "metadata": {},
   "outputs": [],
   "source": [
    "# Initialize the stemmer and lemmatizer\n",
    "stemmer = PorterStemmer()\n",
    "lemmatizer = WordNetLemmatizer()\n",
    "\n",
    "# Download necessary NLTK resources\n",
    "nltk.download('stopwords')\n",
    "nltk.download('wordnet')"
   ]
  },
  {
   "cell_type": "markdown",
   "id": "3f670275",
   "metadata": {},
   "source": [
    "## Preprocessing"
   ]
  },
  {
   "cell_type": "code",
   "execution_count": null,
   "id": "f73f82f2",
   "metadata": {},
   "outputs": [],
   "source": [
    "# 1. Case Folding\n",
    "def case_folding(text):\n",
    "    if isinstance(text, str):  # Check if the value is a string\n",
    "        return text.lower()\n",
    "    else:\n",
    "        return \"\"  # Return an empty string for non-string values"
   ]
  },
  {
   "cell_type": "code",
   "execution_count": null,
   "id": "4e8dfcfa",
   "metadata": {},
   "outputs": [],
   "source": [
    "# 2. Data Cleaning (remove unwanted characters)\n",
    "def clean_text(text):\n",
    "    # Remove HTML tags, URLs, mentions (@user), hashtags (#), emojis, digits, and punctuation\n",
    "    text = re.sub(r'<.*?>', '', text)  # Remove HTML tags\n",
    "    text = re.sub(r'http\\S+', '', text)  # Remove URLs\n",
    "    text = re.sub(r'@\\w+', '', text)  # Remove mentions\n",
    "    text = re.sub(r'#\\w+', '', text)  # Remove hashtags\n",
    "    text = re.sub(r'[^\\w\\s]', '', text)  # Remove punctuation\n",
    "    text = re.sub(r'\\d+', '', text)  # Remove digits\n",
    "    text = re.sub(r'[\\U00010000-\\U0010ffff]', '', text)  # Remove emojis\n",
    "    return text"
   ]
  },
  {
   "cell_type": "code",
   "execution_count": null,
   "id": "fe8c46ae",
   "metadata": {},
   "outputs": [],
   "source": [
    "# 3. Tokenization\n",
    "def tokenize(text):\n",
    "    return text.split()"
   ]
  },
  {
   "cell_type": "code",
   "execution_count": null,
   "id": "553f49bb",
   "metadata": {},
   "outputs": [],
   "source": [
    "# 4. Stopwords Removal\n",
    "def remove_stopwords(tokens):\n",
    "    stop_words = set(stopwords.words('indonesian'))  # Change to 'english' for English stopwords\n",
    "    return [word for word in tokens if word not in stop_words]"
   ]
  },
  {
   "cell_type": "code",
   "execution_count": null,
   "id": "10b033b5",
   "metadata": {},
   "outputs": [],
   "source": [
    "# 5. Stemming and Lemmatization\n",
    "def stem_and_lemmatize(tokens, use_stemming=True):\n",
    "    if use_stemming:\n",
    "        return [stemmer.stem(word) for word in tokens]\n",
    "    else:\n",
    "        return [lemmatizer.lemmatize(word) for word in tokens]"
   ]
  },
  {
   "cell_type": "code",
   "execution_count": null,
   "id": "df1c2e63",
   "metadata": {},
   "outputs": [],
   "source": [
    "# 6. Manual Padding/Truncating\n",
    "def padding_truncating(tokens, max_len=100):\n",
    "    # If the sequence is shorter than max_len, pad with 'PAD' tokens\n",
    "    if len(tokens) < max_len:\n",
    "        tokens += ['PAD'] * (max_len - len(tokens))\n",
    "    # If the sequence is longer than max_len, truncate it\n",
    "    elif len(tokens) > max_len:\n",
    "        tokens = tokens[:max_len]\n",
    "    return tokens"
   ]
  },
  {
   "cell_type": "code",
   "execution_count": null,
   "id": "acb3b98a",
   "metadata": {},
   "outputs": [],
   "source": [
    "# Apply all steps to the dataset\n",
    "def preprocess_text(text, use_stemming=True):\n",
    "    text = case_folding(text)  # Step 1: Case folding\n",
    "    text = clean_text(text)  # Step 2: Data cleaning\n",
    "    tokens = tokenize(text)  # Step 3: Tokenization\n",
    "    tokens = remove_stopwords(tokens)  # Step 4: Stopwords removal\n",
    "    tokens = stem_and_lemmatize(tokens, use_stemming)  # Step 5: Stemming/Lemmatization\n",
    "    return tokens"
   ]
  },
  {
   "cell_type": "code",
   "execution_count": null,
   "id": "f98a519e",
   "metadata": {},
   "outputs": [],
   "source": [
    "# Apply preprocessing to each row in the dataset\n",
    "df['processed_text'] = df[text_column].apply(preprocess_text)"
   ]
  },
  {
   "cell_type": "code",
   "execution_count": null,
   "id": "ffaf16e1",
   "metadata": {},
   "outputs": [],
   "source": [
    "# Example of Padding/Truncating and Text-to-Numeric Transformation\n",
    "# Assuming 'processed_text' column contains tokenized text\n",
    "df['padded_text'] = df['processed_text'].apply(lambda x: padding_truncating(x, max_len=100))"
   ]
  },
  {
   "cell_type": "code",
   "execution_count": null,
   "id": "36b4839e",
   "metadata": {},
   "outputs": [
    {
     "name": "stdout",
     "output_type": "stream",
     "text": [
      "           Category  Category_Label\n",
      "0          No Slang               4\n",
      "3          No Slang               4\n",
      "4          No Slang               4\n",
      "5    Internet Slang               1\n",
      "6          No Slang               4\n",
      "7          No Slang               4\n",
      "8   Offensive Slang               3\n",
      "10   Internet Slang               1\n",
      "11         No Slang               4\n",
      "12         No Slang               4\n"
     ]
    }
   ],
   "source": [
    "# 8. Label Encoding\n",
    "def encode_labels(df, label_column):\n",
    "    encoder = LabelEncoder()\n",
    "    df[label_column] = encoder.fit_transform(df[label_column])\n",
    "    return df"
   ]
  },
  {
   "cell_type": "markdown",
   "id": "2eb572a7",
   "metadata": {},
   "source": [
    "# Vectorize"
   ]
  },
  {
   "cell_type": "markdown",
   "id": "fd96750a",
   "metadata": {},
   "source": [
    "# Models Building"
   ]
  },
  {
   "cell_type": "code",
   "execution_count": 5,
   "id": "f606218b",
   "metadata": {},
   "outputs": [],
   "source": [
    "from sklearn.metrics import accuracy_score, confusion_matrix, classification_report\n",
    "\n",
    "def print_score(clf, X_train, y_train, X_test, y_test, train=True):\n",
    "    if train:\n",
    "        pred = clf.predict(X_train)\n",
    "        clf_report = pd.DataFrame(classification_report(y_train, pred, output_dict=True))\n",
    "        print(\"Train Result:\\n================================================\")\n",
    "        print(f\"Accuracy Score: {accuracy_score(y_train, pred) * 100:.2f}%\")\n",
    "        print(\"_______________________________________________\")\n",
    "        print(f\"CLASSIFICATION REPORT:\\n{clf_report}\")\n",
    "        print(\"_______________________________________________\")\n",
    "        print(f\"Confusion Matrix: \\n {confusion_matrix(y_train, pred)}\\n\")\n",
    "        \n",
    "    elif train==False:\n",
    "        pred = clf.predict(X_test)\n",
    "        clf_report = pd.DataFrame(classification_report(y_test, pred, output_dict=True))\n",
    "        print(\"Test Result:\\n================================================\")        \n",
    "        print(f\"Accuracy Score: {accuracy_score(y_test, pred) * 100:.2f}%\")\n",
    "        print(\"_______________________________________________\")\n",
    "        print(f\"CLASSIFICATION REPORT:\\n{clf_report}\")\n",
    "        print(\"_______________________________________________\")\n",
    "        print(f\"Confusion Matrix: \\n {confusion_matrix(y_test, pred)}\\n\")"
   ]
  },
  {
   "cell_type": "code",
   "execution_count": 6,
   "id": "c270fc3d",
   "metadata": {},
   "outputs": [],
   "source": [
    "from sklearn.model_selection import train_test_split\n",
    "\n",
    "X = tfidf_matrix\n",
    "y = df_cleaned[\"Category_Label\"]\n",
    "\n",
    "X_train, X_test, y_train, y_test = train_test_split(X, y, test_size=0.3, random_state=42)"
   ]
  },
  {
   "cell_type": "markdown",
   "id": "f8b66c50",
   "metadata": {},
   "source": [
    "# 1. Logistic Regression"
   ]
  },
  {
   "cell_type": "code",
   "execution_count": 7,
   "id": "34ec3236",
   "metadata": {},
   "outputs": [
    {
     "name": "stdout",
     "output_type": "stream",
     "text": [
      "Train Result:\n",
      "================================================\n",
      "Accuracy Score: 67.31%\n",
      "_______________________________________________\n",
      "CLASSIFICATION REPORT:\n",
      "                    0           1           2           3            4  \\\n",
      "precision    0.666667    0.885714    1.000000    0.958333     0.659061   \n",
      "recall       0.008811    0.190965    0.005181    0.216301     0.999506   \n",
      "f1-score     0.017391    0.314189    0.010309    0.352941     0.794343   \n",
      "support    227.000000  487.000000  193.000000  319.000000  2023.000000   \n",
      "\n",
      "           accuracy    macro avg  weighted avg  \n",
      "precision   0.67313     0.833955      0.743203  \n",
      "recall      0.67313     0.284153      0.673130  \n",
      "f1-score    0.67313     0.297835      0.578175  \n",
      "support     0.67313  3249.000000   3249.000000  \n",
      "_______________________________________________\n",
      "Confusion Matrix: \n",
      " [[   2    4    0    1  220]\n",
      " [   0   93    0    1  393]\n",
      " [   0    1    1    1  190]\n",
      " [   1    6    0   69  243]\n",
      " [   0    1    0    0 2022]]\n",
      "\n",
      "Test Result:\n",
      "================================================\n",
      "Accuracy Score: 65.40%\n",
      "_______________________________________________\n",
      "CLASSIFICATION REPORT:\n",
      "              0           1     2           3           4  accuracy  \\\n",
      "precision   0.0    0.878788   0.0    0.909091    0.646405  0.653984   \n",
      "recall      0.0    0.132420   0.0    0.073529    0.998855  0.653984   \n",
      "f1-score    0.0    0.230159   0.0    0.136054    0.784878  0.653984   \n",
      "support    92.0  219.000000  73.0  136.000000  873.000000  0.653984   \n",
      "\n",
      "             macro avg  weighted avg  \n",
      "precision     0.486857      0.632019  \n",
      "recall        0.240961      0.653984  \n",
      "f1-score      0.230218      0.541355  \n",
      "support    1393.000000   1393.000000  \n",
      "_______________________________________________\n",
      "Confusion Matrix: \n",
      " [[  0   1   0   1  90]\n",
      " [  0  29   0   0 190]\n",
      " [  0   0   0   0  73]\n",
      " [  0   2   0  10 124]\n",
      " [  0   1   0   0 872]]\n",
      "\n"
     ]
    },
    {
     "name": "stderr",
     "output_type": "stream",
     "text": [
      "c:\\personal\\Code\\S6\\NLP\\.venv\\Lib\\site-packages\\sklearn\\metrics\\_classification.py:1565: UndefinedMetricWarning: Precision is ill-defined and being set to 0.0 in labels with no predicted samples. Use `zero_division` parameter to control this behavior.\n",
      "  _warn_prf(average, modifier, f\"{metric.capitalize()} is\", len(result))\n",
      "c:\\personal\\Code\\S6\\NLP\\.venv\\Lib\\site-packages\\sklearn\\metrics\\_classification.py:1565: UndefinedMetricWarning: Precision is ill-defined and being set to 0.0 in labels with no predicted samples. Use `zero_division` parameter to control this behavior.\n",
      "  _warn_prf(average, modifier, f\"{metric.capitalize()} is\", len(result))\n",
      "c:\\personal\\Code\\S6\\NLP\\.venv\\Lib\\site-packages\\sklearn\\metrics\\_classification.py:1565: UndefinedMetricWarning: Precision is ill-defined and being set to 0.0 in labels with no predicted samples. Use `zero_division` parameter to control this behavior.\n",
      "  _warn_prf(average, modifier, f\"{metric.capitalize()} is\", len(result))\n"
     ]
    }
   ],
   "source": [
    "from sklearn.linear_model import LogisticRegression\n",
    "\n",
    "lr_clf = LogisticRegression(solver='liblinear')\n",
    "lr_clf.fit(X_train, y_train)\n",
    "\n",
    "print_score(lr_clf, X_train, y_train, X_test, y_test, train=True)\n",
    "print_score(lr_clf, X_train, y_train, X_test, y_test, train=False)"
   ]
  },
  {
   "cell_type": "code",
   "execution_count": 8,
   "id": "0ca4310d",
   "metadata": {},
   "outputs": [
    {
     "data": {
      "application/vnd.microsoft.datawrangler.viewer.v0+json": {
       "columns": [
        {
         "name": "index",
         "rawType": "int64",
         "type": "integer"
        },
        {
         "name": "Model",
         "rawType": "object",
         "type": "string"
        },
        {
         "name": "Training Accuracy %",
         "rawType": "float64",
         "type": "float"
        },
        {
         "name": "Testing Accuracy %",
         "rawType": "float64",
         "type": "float"
        }
       ],
       "conversionMethod": "pd.DataFrame",
       "ref": "0d346b6c-f188-4b15-9e4d-4d62da506e2f",
       "rows": [
        [
         "0",
         "Logistic Regression",
         "67.31301939058172",
         "65.39842067480258"
        ]
       ],
       "shape": {
        "columns": 3,
        "rows": 1
       }
      },
      "text/html": [
       "<div>\n",
       "<style scoped>\n",
       "    .dataframe tbody tr th:only-of-type {\n",
       "        vertical-align: middle;\n",
       "    }\n",
       "\n",
       "    .dataframe tbody tr th {\n",
       "        vertical-align: top;\n",
       "    }\n",
       "\n",
       "    .dataframe thead th {\n",
       "        text-align: right;\n",
       "    }\n",
       "</style>\n",
       "<table border=\"1\" class=\"dataframe\">\n",
       "  <thead>\n",
       "    <tr style=\"text-align: right;\">\n",
       "      <th></th>\n",
       "      <th>Model</th>\n",
       "      <th>Training Accuracy %</th>\n",
       "      <th>Testing Accuracy %</th>\n",
       "    </tr>\n",
       "  </thead>\n",
       "  <tbody>\n",
       "    <tr>\n",
       "      <th>0</th>\n",
       "      <td>Logistic Regression</td>\n",
       "      <td>67.313019</td>\n",
       "      <td>65.398421</td>\n",
       "    </tr>\n",
       "  </tbody>\n",
       "</table>\n",
       "</div>"
      ],
      "text/plain": [
       "                 Model  Training Accuracy %  Testing Accuracy %\n",
       "0  Logistic Regression            67.313019           65.398421"
      ]
     },
     "execution_count": 8,
     "metadata": {},
     "output_type": "execute_result"
    }
   ],
   "source": [
    "test_score = accuracy_score(y_test, lr_clf.predict(X_test)) * 100\n",
    "train_score = accuracy_score(y_train, lr_clf.predict(X_train)) * 100\n",
    "\n",
    "results_df = pd.DataFrame(data=[[\"Logistic Regression\", train_score, test_score]], columns=['Model', 'Training Accuracy %', 'Testing Accuracy %'])\n",
    "results_df"
   ]
  },
  {
   "cell_type": "markdown",
   "id": "4a018a7b",
   "metadata": {},
   "source": [
    "# 2. K-nearest neighbors"
   ]
  },
  {
   "cell_type": "code",
   "execution_count": 9,
   "id": "65fc3dce",
   "metadata": {},
   "outputs": [
    {
     "name": "stdout",
     "output_type": "stream",
     "text": [
      "Train Result:\n",
      "================================================\n",
      "Accuracy Score: 69.96%\n",
      "_______________________________________________\n",
      "CLASSIFICATION REPORT:\n",
      "                    0           1           2           3            4  \\\n",
      "precision    0.585106    0.676329    0.586957    0.636986     0.710450   \n",
      "recall       0.242291    0.287474    0.139896    0.291536     0.967870   \n",
      "f1-score     0.342679    0.403458    0.225941    0.400000     0.819418   \n",
      "support    227.000000  487.000000  193.000000  319.000000  2023.000000   \n",
      "\n",
      "           accuracy    macro avg  weighted avg  \n",
      "precision    0.6996     0.639166      0.682029  \n",
      "recall       0.6996     0.385813      0.699600  \n",
      "f1-score     0.6996     0.438299      0.647326  \n",
      "support      0.6996  3249.000000   3249.000000  \n",
      "_______________________________________________\n",
      "Confusion Matrix: \n",
      " [[  55   11    3   15  143]\n",
      " [  13  140    6   16  312]\n",
      " [   5   12   27    3  146]\n",
      " [  10   16    3   93  197]\n",
      " [  11   28    7   19 1958]]\n",
      "\n",
      "Test Result:\n",
      "================================================\n",
      "Accuracy Score: 60.30%\n",
      "_______________________________________________\n",
      "CLASSIFICATION REPORT:\n",
      "                   0           1          2           3           4  accuracy  \\\n",
      "precision   0.071429    0.416667   0.130435    0.160000    0.655629  0.603015   \n",
      "recall      0.021739    0.159817   0.041096    0.058824    0.907216  0.603015   \n",
      "f1-score    0.033333    0.231023   0.062500    0.086022    0.761173  0.603015   \n",
      "support    92.000000  219.000000  73.000000  136.000000  873.000000  0.603015   \n",
      "\n",
      "             macro avg  weighted avg  \n",
      "precision     0.286832      0.503566  \n",
      "recall        0.237738      0.603015  \n",
      "f1-score      0.234810      0.527226  \n",
      "support    1393.000000   1393.000000  \n",
      "_______________________________________________\n",
      "Confusion Matrix: \n",
      " [[  2  11   2   5  72]\n",
      " [  3  35   6  11 164]\n",
      " [  3   4   3   1  62]\n",
      " [  5   3   2   8 118]\n",
      " [ 15  31  10  25 792]]\n",
      "\n"
     ]
    }
   ],
   "source": [
    "from sklearn.neighbors import KNeighborsClassifier\n",
    "\n",
    "knn_clf = KNeighborsClassifier()\n",
    "knn_clf.fit(X_train, y_train)\n",
    "\n",
    "print_score(knn_clf, X_train, y_train, X_test, y_test, train=True)\n",
    "print_score(knn_clf, X_train, y_train, X_test, y_test, train=False)"
   ]
  },
  {
   "cell_type": "code",
   "execution_count": 10,
   "id": "14b1d93e",
   "metadata": {},
   "outputs": [
    {
     "data": {
      "application/vnd.microsoft.datawrangler.viewer.v0+json": {
       "columns": [
        {
         "name": "index",
         "rawType": "int64",
         "type": "integer"
        },
        {
         "name": "Model",
         "rawType": "object",
         "type": "string"
        },
        {
         "name": "Training Accuracy %",
         "rawType": "float64",
         "type": "float"
        },
        {
         "name": "Testing Accuracy %",
         "rawType": "float64",
         "type": "float"
        }
       ],
       "conversionMethod": "pd.DataFrame",
       "ref": "cb6becff-c3a7-44c3-b1df-7e12cb16eaec",
       "rows": [
        [
         "0",
         "Logistic Regression",
         "67.31301939058172",
         "65.39842067480258"
        ],
        [
         "1",
         "K-nearest neighbors",
         "69.95998768851955",
         "60.30150753768844"
        ]
       ],
       "shape": {
        "columns": 3,
        "rows": 2
       }
      },
      "text/html": [
       "<div>\n",
       "<style scoped>\n",
       "    .dataframe tbody tr th:only-of-type {\n",
       "        vertical-align: middle;\n",
       "    }\n",
       "\n",
       "    .dataframe tbody tr th {\n",
       "        vertical-align: top;\n",
       "    }\n",
       "\n",
       "    .dataframe thead th {\n",
       "        text-align: right;\n",
       "    }\n",
       "</style>\n",
       "<table border=\"1\" class=\"dataframe\">\n",
       "  <thead>\n",
       "    <tr style=\"text-align: right;\">\n",
       "      <th></th>\n",
       "      <th>Model</th>\n",
       "      <th>Training Accuracy %</th>\n",
       "      <th>Testing Accuracy %</th>\n",
       "    </tr>\n",
       "  </thead>\n",
       "  <tbody>\n",
       "    <tr>\n",
       "      <th>0</th>\n",
       "      <td>Logistic Regression</td>\n",
       "      <td>67.313019</td>\n",
       "      <td>65.398421</td>\n",
       "    </tr>\n",
       "    <tr>\n",
       "      <th>1</th>\n",
       "      <td>K-nearest neighbors</td>\n",
       "      <td>69.959988</td>\n",
       "      <td>60.301508</td>\n",
       "    </tr>\n",
       "  </tbody>\n",
       "</table>\n",
       "</div>"
      ],
      "text/plain": [
       "                 Model  Training Accuracy %  Testing Accuracy %\n",
       "0  Logistic Regression            67.313019           65.398421\n",
       "1  K-nearest neighbors            69.959988           60.301508"
      ]
     },
     "execution_count": 10,
     "metadata": {},
     "output_type": "execute_result"
    }
   ],
   "source": [
    "test_score = accuracy_score(y_test, knn_clf.predict(X_test)) * 100\n",
    "train_score = accuracy_score(y_train, knn_clf.predict(X_train)) * 100\n",
    "\n",
    "results_df_2 = pd.DataFrame(data=[[\"K-nearest neighbors\", train_score, test_score]], \n",
    "                          columns=['Model', 'Training Accuracy %', 'Testing Accuracy %'])\n",
    "results_df = pd.concat([results_df, results_df_2], ignore_index=True)\n",
    "results_df"
   ]
  },
  {
   "cell_type": "markdown",
   "id": "f897a97c",
   "metadata": {},
   "source": [
    "# Support Vector Machine"
   ]
  },
  {
   "cell_type": "code",
   "execution_count": 11,
   "id": "026a241a",
   "metadata": {},
   "outputs": [
    {
     "name": "stderr",
     "output_type": "stream",
     "text": [
      "c:\\personal\\Code\\S6\\NLP\\.venv\\Lib\\site-packages\\sklearn\\metrics\\_classification.py:1565: UndefinedMetricWarning: Precision is ill-defined and being set to 0.0 in labels with no predicted samples. Use `zero_division` parameter to control this behavior.\n",
      "  _warn_prf(average, modifier, f\"{metric.capitalize()} is\", len(result))\n",
      "c:\\personal\\Code\\S6\\NLP\\.venv\\Lib\\site-packages\\sklearn\\metrics\\_classification.py:1565: UndefinedMetricWarning: Precision is ill-defined and being set to 0.0 in labels with no predicted samples. Use `zero_division` parameter to control this behavior.\n",
      "  _warn_prf(average, modifier, f\"{metric.capitalize()} is\", len(result))\n",
      "c:\\personal\\Code\\S6\\NLP\\.venv\\Lib\\site-packages\\sklearn\\metrics\\_classification.py:1565: UndefinedMetricWarning: Precision is ill-defined and being set to 0.0 in labels with no predicted samples. Use `zero_division` parameter to control this behavior.\n",
      "  _warn_prf(average, modifier, f\"{metric.capitalize()} is\", len(result))\n"
     ]
    },
    {
     "name": "stdout",
     "output_type": "stream",
     "text": [
      "Train Result:\n",
      "================================================\n",
      "Accuracy Score: 63.71%\n",
      "_______________________________________________\n",
      "CLASSIFICATION REPORT:\n",
      "               0           1      2           3            4  accuracy  \\\n",
      "precision    0.0    0.913043    0.0    1.000000     0.632583  0.637119   \n",
      "recall       0.0    0.086242    0.0    0.015674     1.000000  0.637119   \n",
      "f1-score     0.0    0.157598    0.0    0.030864     0.774947  0.637119   \n",
      "support    227.0  487.000000  193.0  319.000000  2023.000000  0.637119   \n",
      "\n",
      "             macro avg  weighted avg  \n",
      "precision     0.509125      0.628922  \n",
      "recall        0.220383      0.637119  \n",
      "f1-score      0.192682      0.509177  \n",
      "support    3249.000000   3249.000000  \n",
      "_______________________________________________\n",
      "Confusion Matrix: \n",
      " [[   0    1    0    0  226]\n",
      " [   0   42    0    0  445]\n",
      " [   0    0    0    0  193]\n",
      " [   0    3    0    5  311]\n",
      " [   0    0    0    0 2023]]\n",
      "\n",
      "Test Result:\n",
      "================================================\n",
      "Accuracy Score: 63.53%\n",
      "_______________________________________________\n",
      "CLASSIFICATION REPORT:\n",
      "              0           1     2      3           4  accuracy    macro avg  \\\n",
      "precision   0.0    0.923077   0.0    0.0    0.632609  0.635319     0.311137   \n",
      "recall      0.0    0.054795   0.0    0.0    1.000000  0.635319     0.210959   \n",
      "f1-score    0.0    0.103448   0.0    0.0    0.774967  0.635319     0.175683   \n",
      "support    92.0  219.000000  73.0  136.0  873.000000  0.635319  1393.000000   \n",
      "\n",
      "           weighted avg  \n",
      "precision      0.541580  \n",
      "recall         0.635319  \n",
      "f1-score       0.501939  \n",
      "support     1393.000000  \n",
      "_______________________________________________\n",
      "Confusion Matrix: \n",
      " [[  0   0   0   0  92]\n",
      " [  0  12   0   0 207]\n",
      " [  0   0   0   0  73]\n",
      " [  0   1   0   0 135]\n",
      " [  0   0   0   0 873]]\n",
      "\n"
     ]
    },
    {
     "name": "stderr",
     "output_type": "stream",
     "text": [
      "c:\\personal\\Code\\S6\\NLP\\.venv\\Lib\\site-packages\\sklearn\\metrics\\_classification.py:1565: UndefinedMetricWarning: Precision is ill-defined and being set to 0.0 in labels with no predicted samples. Use `zero_division` parameter to control this behavior.\n",
      "  _warn_prf(average, modifier, f\"{metric.capitalize()} is\", len(result))\n",
      "c:\\personal\\Code\\S6\\NLP\\.venv\\Lib\\site-packages\\sklearn\\metrics\\_classification.py:1565: UndefinedMetricWarning: Precision is ill-defined and being set to 0.0 in labels with no predicted samples. Use `zero_division` parameter to control this behavior.\n",
      "  _warn_prf(average, modifier, f\"{metric.capitalize()} is\", len(result))\n",
      "c:\\personal\\Code\\S6\\NLP\\.venv\\Lib\\site-packages\\sklearn\\metrics\\_classification.py:1565: UndefinedMetricWarning: Precision is ill-defined and being set to 0.0 in labels with no predicted samples. Use `zero_division` parameter to control this behavior.\n",
      "  _warn_prf(average, modifier, f\"{metric.capitalize()} is\", len(result))\n"
     ]
    }
   ],
   "source": [
    "from sklearn.svm import SVC\n",
    "\n",
    "\n",
    "svm_clf = SVC(kernel='rbf', gamma=0.1, C=1.0)\n",
    "svm_clf.fit(X_train, y_train)\n",
    "\n",
    "print_score(svm_clf, X_train, y_train, X_test, y_test, train=True)\n",
    "print_score(svm_clf, X_train, y_train, X_test, y_test, train=False)"
   ]
  },
  {
   "cell_type": "code",
   "execution_count": 12,
   "id": "4611f20b",
   "metadata": {},
   "outputs": [
    {
     "data": {
      "application/vnd.microsoft.datawrangler.viewer.v0+json": {
       "columns": [
        {
         "name": "index",
         "rawType": "int64",
         "type": "integer"
        },
        {
         "name": "Model",
         "rawType": "object",
         "type": "string"
        },
        {
         "name": "Training Accuracy %",
         "rawType": "float64",
         "type": "float"
        },
        {
         "name": "Testing Accuracy %",
         "rawType": "float64",
         "type": "float"
        }
       ],
       "conversionMethod": "pd.DataFrame",
       "ref": "22882ce4-4d14-424d-a8ce-514b2e62e778",
       "rows": [
        [
         "0",
         "Logistic Regression",
         "67.31301939058172",
         "65.39842067480258"
        ],
        [
         "1",
         "K-nearest neighbors",
         "69.95998768851955",
         "60.30150753768844"
        ],
        [
         "2",
         "Support Vector Machine",
         "63.711911357340725",
         "63.53194544149318"
        ]
       ],
       "shape": {
        "columns": 3,
        "rows": 3
       }
      },
      "text/html": [
       "<div>\n",
       "<style scoped>\n",
       "    .dataframe tbody tr th:only-of-type {\n",
       "        vertical-align: middle;\n",
       "    }\n",
       "\n",
       "    .dataframe tbody tr th {\n",
       "        vertical-align: top;\n",
       "    }\n",
       "\n",
       "    .dataframe thead th {\n",
       "        text-align: right;\n",
       "    }\n",
       "</style>\n",
       "<table border=\"1\" class=\"dataframe\">\n",
       "  <thead>\n",
       "    <tr style=\"text-align: right;\">\n",
       "      <th></th>\n",
       "      <th>Model</th>\n",
       "      <th>Training Accuracy %</th>\n",
       "      <th>Testing Accuracy %</th>\n",
       "    </tr>\n",
       "  </thead>\n",
       "  <tbody>\n",
       "    <tr>\n",
       "      <th>0</th>\n",
       "      <td>Logistic Regression</td>\n",
       "      <td>67.313019</td>\n",
       "      <td>65.398421</td>\n",
       "    </tr>\n",
       "    <tr>\n",
       "      <th>1</th>\n",
       "      <td>K-nearest neighbors</td>\n",
       "      <td>69.959988</td>\n",
       "      <td>60.301508</td>\n",
       "    </tr>\n",
       "    <tr>\n",
       "      <th>2</th>\n",
       "      <td>Support Vector Machine</td>\n",
       "      <td>63.711911</td>\n",
       "      <td>63.531945</td>\n",
       "    </tr>\n",
       "  </tbody>\n",
       "</table>\n",
       "</div>"
      ],
      "text/plain": [
       "                    Model  Training Accuracy %  Testing Accuracy %\n",
       "0     Logistic Regression            67.313019           65.398421\n",
       "1     K-nearest neighbors            69.959988           60.301508\n",
       "2  Support Vector Machine            63.711911           63.531945"
      ]
     },
     "execution_count": 12,
     "metadata": {},
     "output_type": "execute_result"
    }
   ],
   "source": [
    "test_score = accuracy_score(y_test, svm_clf.predict(X_test)) * 100\n",
    "train_score = accuracy_score(y_train, svm_clf.predict(X_train)) * 100\n",
    "\n",
    "results_df_2 = pd.DataFrame(data=[[\"Support Vector Machine\", train_score, test_score]], \n",
    "                          columns=['Model', 'Training Accuracy %', 'Testing Accuracy %'])\n",
    "results_df = pd.concat([results_df, results_df_2], ignore_index=True)\n",
    "results_df"
   ]
  },
  {
   "cell_type": "markdown",
   "id": "1163fa03",
   "metadata": {},
   "source": [
    "# 4. Decision Tree Classifier"
   ]
  },
  {
   "cell_type": "code",
   "execution_count": 13,
   "id": "c54c0fc2",
   "metadata": {},
   "outputs": [
    {
     "name": "stdout",
     "output_type": "stream",
     "text": [
      "Train Result:\n",
      "================================================\n",
      "Accuracy Score: 99.91%\n",
      "_______________________________________________\n",
      "CLASSIFICATION REPORT:\n",
      "                    0           1           2      3            4  accuracy  \\\n",
      "precision    0.995614    0.995910    1.000000    1.0     1.000000  0.999077   \n",
      "recall       1.000000    1.000000    0.989637    1.0     0.999506  0.999077   \n",
      "f1-score     0.997802    0.997951    0.994792    1.0     0.999753  0.999077   \n",
      "support    227.000000  487.000000  193.000000  319.0  2023.000000  0.999077   \n",
      "\n",
      "             macro avg  weighted avg  \n",
      "precision     0.998305      0.999081  \n",
      "recall        0.997829      0.999077  \n",
      "f1-score      0.998059      0.999076  \n",
      "support    3249.000000   3249.000000  \n",
      "_______________________________________________\n",
      "Confusion Matrix: \n",
      " [[ 227    0    0    0    0]\n",
      " [   0  487    0    0    0]\n",
      " [   0    2  191    0    0]\n",
      " [   0    0    0  319    0]\n",
      " [   1    0    0    0 2022]]\n",
      "\n",
      "Test Result:\n",
      "================================================\n",
      "Accuracy Score: 58.79%\n",
      "_______________________________________________\n",
      "CLASSIFICATION REPORT:\n",
      "                   0           1          2           3           4  accuracy  \\\n",
      "precision   0.094118    0.459596   0.109375    0.406780    0.716595   0.58794   \n",
      "recall      0.086957    0.415525   0.095890    0.352941    0.761741   0.58794   \n",
      "f1-score    0.090395    0.436451   0.102190    0.377953    0.738479   0.58794   \n",
      "support    92.000000  219.000000  73.000000  136.000000  873.000000   0.58794   \n",
      "\n",
      "             macro avg  weighted avg  \n",
      "precision     0.357293      0.573011  \n",
      "recall        0.342611      0.587940  \n",
      "f1-score      0.349093      0.579650  \n",
      "support    1393.000000   1393.000000  \n",
      "_______________________________________________\n",
      "Confusion Matrix: \n",
      " [[  8  11   4   8  61]\n",
      " [ 19  91   9  15  85]\n",
      " [  3  12   7   2  49]\n",
      " [ 10   6   4  48  68]\n",
      " [ 45  78  40  45 665]]\n",
      "\n"
     ]
    }
   ],
   "source": [
    "from sklearn.tree import DecisionTreeClassifier\n",
    "\n",
    "\n",
    "tree_clf = DecisionTreeClassifier(random_state=42)\n",
    "tree_clf.fit(X_train, y_train)\n",
    "\n",
    "print_score(tree_clf, X_train, y_train, X_test, y_test, train=True)\n",
    "print_score(tree_clf, X_train, y_train, X_test, y_test, train=False)"
   ]
  },
  {
   "cell_type": "code",
   "execution_count": 14,
   "id": "ed1d7218",
   "metadata": {},
   "outputs": [
    {
     "data": {
      "application/vnd.microsoft.datawrangler.viewer.v0+json": {
       "columns": [
        {
         "name": "index",
         "rawType": "int64",
         "type": "integer"
        },
        {
         "name": "Model",
         "rawType": "object",
         "type": "string"
        },
        {
         "name": "Training Accuracy %",
         "rawType": "float64",
         "type": "float"
        },
        {
         "name": "Testing Accuracy %",
         "rawType": "float64",
         "type": "float"
        }
       ],
       "conversionMethod": "pd.DataFrame",
       "ref": "54580755-b166-4ded-b703-436e9dc3404a",
       "rows": [
        [
         "0",
         "Logistic Regression",
         "67.31301939058172",
         "65.39842067480258"
        ],
        [
         "1",
         "K-nearest neighbors",
         "69.95998768851955",
         "60.30150753768844"
        ],
        [
         "2",
         "Support Vector Machine",
         "63.711911357340725",
         "63.53194544149318"
        ],
        [
         "3",
         "Decision Tree Classifier",
         "99.90766389658357",
         "58.79396984924623"
        ]
       ],
       "shape": {
        "columns": 3,
        "rows": 4
       }
      },
      "text/html": [
       "<div>\n",
       "<style scoped>\n",
       "    .dataframe tbody tr th:only-of-type {\n",
       "        vertical-align: middle;\n",
       "    }\n",
       "\n",
       "    .dataframe tbody tr th {\n",
       "        vertical-align: top;\n",
       "    }\n",
       "\n",
       "    .dataframe thead th {\n",
       "        text-align: right;\n",
       "    }\n",
       "</style>\n",
       "<table border=\"1\" class=\"dataframe\">\n",
       "  <thead>\n",
       "    <tr style=\"text-align: right;\">\n",
       "      <th></th>\n",
       "      <th>Model</th>\n",
       "      <th>Training Accuracy %</th>\n",
       "      <th>Testing Accuracy %</th>\n",
       "    </tr>\n",
       "  </thead>\n",
       "  <tbody>\n",
       "    <tr>\n",
       "      <th>0</th>\n",
       "      <td>Logistic Regression</td>\n",
       "      <td>67.313019</td>\n",
       "      <td>65.398421</td>\n",
       "    </tr>\n",
       "    <tr>\n",
       "      <th>1</th>\n",
       "      <td>K-nearest neighbors</td>\n",
       "      <td>69.959988</td>\n",
       "      <td>60.301508</td>\n",
       "    </tr>\n",
       "    <tr>\n",
       "      <th>2</th>\n",
       "      <td>Support Vector Machine</td>\n",
       "      <td>63.711911</td>\n",
       "      <td>63.531945</td>\n",
       "    </tr>\n",
       "    <tr>\n",
       "      <th>3</th>\n",
       "      <td>Decision Tree Classifier</td>\n",
       "      <td>99.907664</td>\n",
       "      <td>58.793970</td>\n",
       "    </tr>\n",
       "  </tbody>\n",
       "</table>\n",
       "</div>"
      ],
      "text/plain": [
       "                      Model  Training Accuracy %  Testing Accuracy %\n",
       "0       Logistic Regression            67.313019           65.398421\n",
       "1       K-nearest neighbors            69.959988           60.301508\n",
       "2    Support Vector Machine            63.711911           63.531945\n",
       "3  Decision Tree Classifier            99.907664           58.793970"
      ]
     },
     "execution_count": 14,
     "metadata": {},
     "output_type": "execute_result"
    }
   ],
   "source": [
    "test_score = accuracy_score(y_test, tree_clf.predict(X_test)) * 100\n",
    "train_score = accuracy_score(y_train, tree_clf.predict(X_train)) * 100\n",
    "\n",
    "results_df_2 = pd.DataFrame(data=[[\"Decision Tree Classifier\", train_score, test_score]], \n",
    "                          columns=['Model', 'Training Accuracy %', 'Testing Accuracy %'])\n",
    "results_df = pd.concat([results_df, results_df_2], ignore_index=True)\n",
    "results_df\n",
    "\n"
   ]
  },
  {
   "cell_type": "markdown",
   "id": "7964396f",
   "metadata": {},
   "source": [
    "#  5. Random Forest"
   ]
  },
  {
   "cell_type": "code",
   "execution_count": 15,
   "id": "b3b548bd",
   "metadata": {},
   "outputs": [
    {
     "name": "stdout",
     "output_type": "stream",
     "text": [
      "Train Result:\n",
      "================================================\n",
      "Accuracy Score: 99.91%\n",
      "_______________________________________________\n",
      "CLASSIFICATION REPORT:\n",
      "                    0           1           2      3            4  accuracy  \\\n",
      "precision    1.000000    0.995910    1.000000    1.0     0.999506  0.999077   \n",
      "recall       0.995595    1.000000    0.989637    1.0     1.000000  0.999077   \n",
      "f1-score     0.997792    0.997951    0.994792    1.0     0.999753  0.999077   \n",
      "support    227.000000  487.000000  193.000000  319.0  2023.000000  0.999077   \n",
      "\n",
      "             macro avg  weighted avg  \n",
      "precision     0.999083      0.999079  \n",
      "recall        0.997046      0.999077  \n",
      "f1-score      0.998058      0.999075  \n",
      "support    3249.000000   3249.000000  \n",
      "_______________________________________________\n",
      "Confusion Matrix: \n",
      " [[ 226    0    0    0    1]\n",
      " [   0  487    0    0    0]\n",
      " [   0    2  191    0    0]\n",
      " [   0    0    0  319    0]\n",
      " [   0    0    0    0 2023]]\n",
      "\n",
      "Test Result:\n",
      "================================================\n",
      "Accuracy Score: 68.41%\n",
      "_______________________________________________\n",
      "CLASSIFICATION REPORT:\n",
      "                   0           1          2           3           4  accuracy  \\\n",
      "precision   0.222222    0.755814   0.166667    0.711538    0.687246  0.684135   \n",
      "recall      0.043478    0.296804   0.013699    0.272059    0.969072  0.684135   \n",
      "f1-score    0.072727    0.426230   0.025316    0.393617    0.804183  0.684135   \n",
      "support    92.000000  219.000000  73.000000  136.000000  873.000000  0.684135   \n",
      "\n",
      "             macro avg  weighted avg  \n",
      "precision     0.508697      0.642405  \n",
      "recall        0.319022      0.684135  \n",
      "f1-score      0.344415      0.615554  \n",
      "support    1393.000000   1393.000000  \n",
      "_______________________________________________\n",
      "Confusion Matrix: \n",
      " [[  4   2   0   2  84]\n",
      " [  8  65   2   5 139]\n",
      " [  0   5   1   0  67]\n",
      " [  2   2   0  37  95]\n",
      " [  4  12   3   8 846]]\n",
      "\n"
     ]
    }
   ],
   "source": [
    "from sklearn.ensemble import RandomForestClassifier\n",
    "from sklearn.model_selection import RandomizedSearchCV\n",
    "\n",
    "rf_clf = RandomForestClassifier(n_estimators=1000, random_state=42)\n",
    "rf_clf.fit(X_train, y_train)\n",
    "\n",
    "print_score(rf_clf, X_train, y_train, X_test, y_test, train=True)\n",
    "print_score(rf_clf, X_train, y_train, X_test, y_test, train=False)"
   ]
  },
  {
   "cell_type": "code",
   "execution_count": 16,
   "id": "2e27369a",
   "metadata": {},
   "outputs": [
    {
     "data": {
      "application/vnd.microsoft.datawrangler.viewer.v0+json": {
       "columns": [
        {
         "name": "index",
         "rawType": "int64",
         "type": "integer"
        },
        {
         "name": "Model",
         "rawType": "object",
         "type": "string"
        },
        {
         "name": "Training Accuracy %",
         "rawType": "float64",
         "type": "float"
        },
        {
         "name": "Testing Accuracy %",
         "rawType": "float64",
         "type": "float"
        }
       ],
       "conversionMethod": "pd.DataFrame",
       "ref": "f6221b19-f5af-4b32-8f4b-60ee6dafeccd",
       "rows": [
        [
         "0",
         "Logistic Regression",
         "67.31301939058172",
         "65.39842067480258"
        ],
        [
         "1",
         "K-nearest neighbors",
         "69.95998768851955",
         "60.30150753768844"
        ],
        [
         "2",
         "Support Vector Machine",
         "63.711911357340725",
         "63.53194544149318"
        ],
        [
         "3",
         "Decision Tree Classifier",
         "99.90766389658357",
         "58.79396984924623"
        ],
        [
         "4",
         "Random Forest Classifier",
         "99.90766389658357",
         "68.413496051687"
        ]
       ],
       "shape": {
        "columns": 3,
        "rows": 5
       }
      },
      "text/html": [
       "<div>\n",
       "<style scoped>\n",
       "    .dataframe tbody tr th:only-of-type {\n",
       "        vertical-align: middle;\n",
       "    }\n",
       "\n",
       "    .dataframe tbody tr th {\n",
       "        vertical-align: top;\n",
       "    }\n",
       "\n",
       "    .dataframe thead th {\n",
       "        text-align: right;\n",
       "    }\n",
       "</style>\n",
       "<table border=\"1\" class=\"dataframe\">\n",
       "  <thead>\n",
       "    <tr style=\"text-align: right;\">\n",
       "      <th></th>\n",
       "      <th>Model</th>\n",
       "      <th>Training Accuracy %</th>\n",
       "      <th>Testing Accuracy %</th>\n",
       "    </tr>\n",
       "  </thead>\n",
       "  <tbody>\n",
       "    <tr>\n",
       "      <th>0</th>\n",
       "      <td>Logistic Regression</td>\n",
       "      <td>67.313019</td>\n",
       "      <td>65.398421</td>\n",
       "    </tr>\n",
       "    <tr>\n",
       "      <th>1</th>\n",
       "      <td>K-nearest neighbors</td>\n",
       "      <td>69.959988</td>\n",
       "      <td>60.301508</td>\n",
       "    </tr>\n",
       "    <tr>\n",
       "      <th>2</th>\n",
       "      <td>Support Vector Machine</td>\n",
       "      <td>63.711911</td>\n",
       "      <td>63.531945</td>\n",
       "    </tr>\n",
       "    <tr>\n",
       "      <th>3</th>\n",
       "      <td>Decision Tree Classifier</td>\n",
       "      <td>99.907664</td>\n",
       "      <td>58.793970</td>\n",
       "    </tr>\n",
       "    <tr>\n",
       "      <th>4</th>\n",
       "      <td>Random Forest Classifier</td>\n",
       "      <td>99.907664</td>\n",
       "      <td>68.413496</td>\n",
       "    </tr>\n",
       "  </tbody>\n",
       "</table>\n",
       "</div>"
      ],
      "text/plain": [
       "                      Model  Training Accuracy %  Testing Accuracy %\n",
       "0       Logistic Regression            67.313019           65.398421\n",
       "1       K-nearest neighbors            69.959988           60.301508\n",
       "2    Support Vector Machine            63.711911           63.531945\n",
       "3  Decision Tree Classifier            99.907664           58.793970\n",
       "4  Random Forest Classifier            99.907664           68.413496"
      ]
     },
     "execution_count": 16,
     "metadata": {},
     "output_type": "execute_result"
    }
   ],
   "source": [
    "test_score = accuracy_score(y_test, rf_clf.predict(X_test)) * 100\n",
    "train_score = accuracy_score(y_train, rf_clf.predict(X_train)) * 100\n",
    "\n",
    "results_df_2 = pd.DataFrame(data=[[\"Random Forest Classifier\", train_score, test_score]], \n",
    "                          columns=['Model', 'Training Accuracy %', 'Testing Accuracy %'])\n",
    "results_df = pd.concat([results_df, results_df_2], ignore_index=True)\n",
    "results_df\n",
    "\n"
   ]
  },
  {
   "cell_type": "markdown",
   "id": "7c953791",
   "metadata": {},
   "source": [
    "# 6. XGBoost Classifer"
   ]
  },
  {
   "cell_type": "code",
   "execution_count": 184,
   "id": "810db141",
   "metadata": {},
   "outputs": [
    {
     "name": "stderr",
     "output_type": "stream",
     "text": [
      "c:\\personal\\Code\\S6\\NLP\\.venv\\Lib\\site-packages\\xgboost\\training.py:183: UserWarning: [16:19:27] WARNING: C:\\actions-runner\\_work\\xgboost\\xgboost\\src\\learner.cc:738: \n",
      "Parameters: { \"use_label_encoder\" } are not used.\n",
      "\n",
      "  bst.update(dtrain, iteration=i, fobj=obj)\n"
     ]
    },
    {
     "name": "stdout",
     "output_type": "stream",
     "text": [
      "Train Result:\n",
      "================================================\n",
      "Accuracy Score: 95.26%\n",
      "_______________________________________________\n",
      "CLASSIFICATION REPORT:\n",
      "                   0           1          2          3           4  accuracy  \\\n",
      "precision   1.000000    0.989583   1.000000   1.000000    0.929638  0.952646   \n",
      "recall      0.822222    0.871560   0.893617   0.913580    1.000000  0.952646   \n",
      "f1-score    0.902439    0.926829   0.943820   0.954839    0.963536  0.952646   \n",
      "support    45.000000  109.000000  47.000000  81.000000  436.000000  0.952646   \n",
      "\n",
      "            macro avg  weighted avg  \n",
      "precision    0.983844      0.955692  \n",
      "recall       0.900196      0.952646  \n",
      "f1-score     0.938293      0.951863  \n",
      "support    718.000000    718.000000  \n",
      "_______________________________________________\n",
      "Confusion Matrix: \n",
      " [[ 37   0   0   0   8]\n",
      " [  0  95   0   0  14]\n",
      " [  0   0  42   0   5]\n",
      " [  0   1   0  74   6]\n",
      " [  0   0   0   0 436]]\n",
      "\n",
      "Test Result:\n",
      "================================================\n",
      "Accuracy Score: 64.94%\n",
      "_______________________________________________\n",
      "CLASSIFICATION REPORT:\n",
      "                   0          1          2          3           4  accuracy  \\\n",
      "precision   0.125000   0.466667   0.142857   0.523810    0.700389  0.649351   \n",
      "recall      0.052632   0.170732   0.071429   0.333333    0.895522  0.649351   \n",
      "f1-score    0.074074   0.250000   0.095238   0.407407    0.786026  0.649351   \n",
      "support    19.000000  41.000000  14.000000  33.000000  201.000000  0.649351   \n",
      "\n",
      "            macro avg  weighted avg  \n",
      "precision    0.391744      0.589520  \n",
      "recall       0.304730      0.649351  \n",
      "f1-score     0.322549      0.598787  \n",
      "support    308.000000    308.000000  \n",
      "_______________________________________________\n",
      "Confusion Matrix: \n",
      " [[  1   2   0   1  15]\n",
      " [  0   7   0   3  31]\n",
      " [  0   1   1   1  11]\n",
      " [  0   1   1  11  20]\n",
      " [  7   4   5   5 180]]\n",
      "\n"
     ]
    }
   ],
   "source": [
    "from xgboost import XGBClassifier\n",
    "\n",
    "xgb_clf = XGBClassifier(use_label_encoder=False)\n",
    "xgb_clf.fit(X_train, y_train)\n",
    "\n",
    "print_score(xgb_clf, X_train, y_train, X_test, y_test, train=True)\n",
    "print_score(xgb_clf, X_train, y_train, X_test, y_test, train=False)"
   ]
  },
  {
   "cell_type": "code",
   "execution_count": 185,
   "id": "06a541c9",
   "metadata": {},
   "outputs": [
    {
     "data": {
      "application/vnd.microsoft.datawrangler.viewer.v0+json": {
       "columns": [
        {
         "name": "index",
         "rawType": "int64",
         "type": "integer"
        },
        {
         "name": "Model",
         "rawType": "object",
         "type": "string"
        },
        {
         "name": "Training Accuracy %",
         "rawType": "float64",
         "type": "float"
        },
        {
         "name": "Testing Accuracy %",
         "rawType": "float64",
         "type": "float"
        }
       ],
       "conversionMethod": "pd.DataFrame",
       "ref": "fbd5b85c-0e5a-457f-820e-7ba34aa13390",
       "rows": [
        [
         "0",
         "Logistic Regression",
         "61.97771587743732",
         "65.25974025974025"
        ],
        [
         "1",
         "K-nearest neighbors",
         "66.57381615598887",
         "57.7922077922078"
        ],
        [
         "2",
         "Support Vector Machine",
         "60.724233983286915",
         "65.25974025974025"
        ],
        [
         "3",
         "Decision Tree Classifier",
         "100.0",
         "60.064935064935064"
        ],
        [
         "4",
         "Random Forest Classifier",
         "100.0",
         "69.8051948051948"
        ],
        [
         "5",
         "XGBoost Classifier",
         "95.26462395543176",
         "64.93506493506493"
        ]
       ],
       "shape": {
        "columns": 3,
        "rows": 6
       }
      },
      "text/html": [
       "<div>\n",
       "<style scoped>\n",
       "    .dataframe tbody tr th:only-of-type {\n",
       "        vertical-align: middle;\n",
       "    }\n",
       "\n",
       "    .dataframe tbody tr th {\n",
       "        vertical-align: top;\n",
       "    }\n",
       "\n",
       "    .dataframe thead th {\n",
       "        text-align: right;\n",
       "    }\n",
       "</style>\n",
       "<table border=\"1\" class=\"dataframe\">\n",
       "  <thead>\n",
       "    <tr style=\"text-align: right;\">\n",
       "      <th></th>\n",
       "      <th>Model</th>\n",
       "      <th>Training Accuracy %</th>\n",
       "      <th>Testing Accuracy %</th>\n",
       "    </tr>\n",
       "  </thead>\n",
       "  <tbody>\n",
       "    <tr>\n",
       "      <th>0</th>\n",
       "      <td>Logistic Regression</td>\n",
       "      <td>61.977716</td>\n",
       "      <td>65.259740</td>\n",
       "    </tr>\n",
       "    <tr>\n",
       "      <th>1</th>\n",
       "      <td>K-nearest neighbors</td>\n",
       "      <td>66.573816</td>\n",
       "      <td>57.792208</td>\n",
       "    </tr>\n",
       "    <tr>\n",
       "      <th>2</th>\n",
       "      <td>Support Vector Machine</td>\n",
       "      <td>60.724234</td>\n",
       "      <td>65.259740</td>\n",
       "    </tr>\n",
       "    <tr>\n",
       "      <th>3</th>\n",
       "      <td>Decision Tree Classifier</td>\n",
       "      <td>100.000000</td>\n",
       "      <td>60.064935</td>\n",
       "    </tr>\n",
       "    <tr>\n",
       "      <th>4</th>\n",
       "      <td>Random Forest Classifier</td>\n",
       "      <td>100.000000</td>\n",
       "      <td>69.805195</td>\n",
       "    </tr>\n",
       "    <tr>\n",
       "      <th>5</th>\n",
       "      <td>XGBoost Classifier</td>\n",
       "      <td>95.264624</td>\n",
       "      <td>64.935065</td>\n",
       "    </tr>\n",
       "  </tbody>\n",
       "</table>\n",
       "</div>"
      ],
      "text/plain": [
       "                      Model  Training Accuracy %  Testing Accuracy %\n",
       "0       Logistic Regression            61.977716           65.259740\n",
       "1       K-nearest neighbors            66.573816           57.792208\n",
       "2    Support Vector Machine            60.724234           65.259740\n",
       "3  Decision Tree Classifier           100.000000           60.064935\n",
       "4  Random Forest Classifier           100.000000           69.805195\n",
       "5        XGBoost Classifier            95.264624           64.935065"
      ]
     },
     "execution_count": 185,
     "metadata": {},
     "output_type": "execute_result"
    }
   ],
   "source": [
    "test_score = accuracy_score(y_test, xgb_clf.predict(X_test)) * 100\n",
    "train_score = accuracy_score(y_train, xgb_clf.predict(X_train)) * 100\n",
    "\n",
    "results_df_2 = pd.DataFrame(data=[[\"XGBoost Classifier\", train_score, test_score]], \n",
    "                          columns=['Model', 'Training Accuracy %', 'Testing Accuracy %'])\n",
    "results_df = pd.concat([results_df, results_df_2], ignore_index=True)\n",
    "results_df"
   ]
  },
  {
   "cell_type": "markdown",
   "id": "aca2209b",
   "metadata": {},
   "source": [
    "# 🤖 Models Hyperparameter Tuning"
   ]
  },
  {
   "cell_type": "code",
   "execution_count": 186,
   "id": "673e6091",
   "metadata": {},
   "outputs": [
    {
     "name": "stdout",
     "output_type": "stream",
     "text": [
      "Fitting 5 folds for each of 20 candidates, totalling 100 fits\n",
      "Best parameters: {'C': 11.288378916846883, 'solver': 'liblinear'}\n",
      "Train Result:\n",
      "================================================\n",
      "Accuracy Score: 100.00%\n",
      "_______________________________________________\n",
      "CLASSIFICATION REPORT:\n",
      "              0      1     2     3      4  accuracy  macro avg  weighted avg\n",
      "precision   1.0    1.0   1.0   1.0    1.0       1.0        1.0           1.0\n",
      "recall      1.0    1.0   1.0   1.0    1.0       1.0        1.0           1.0\n",
      "f1-score    1.0    1.0   1.0   1.0    1.0       1.0        1.0           1.0\n",
      "support    45.0  109.0  47.0  81.0  436.0       1.0      718.0         718.0\n",
      "_______________________________________________\n",
      "Confusion Matrix: \n",
      " [[ 45   0   0   0   0]\n",
      " [  0 109   0   0   0]\n",
      " [  0   0  47   0   0]\n",
      " [  0   0   0  81   0]\n",
      " [  0   0   0   0 436]]\n",
      "\n",
      "Test Result:\n",
      "================================================\n",
      "Accuracy Score: 67.21%\n",
      "_______________________________________________\n",
      "CLASSIFICATION REPORT:\n",
      "              0          1     2          3           4  accuracy   macro avg  \\\n",
      "precision   0.0   0.500000   0.0   1.000000    0.675676  0.672078    0.435135   \n",
      "recall      0.0   0.121951   0.0   0.060606    0.995025  0.672078    0.235516   \n",
      "f1-score    0.0   0.196078   0.0   0.114286    0.804829  0.672078    0.223039   \n",
      "support    19.0  41.000000  14.0  33.000000  201.000000  0.672078  308.000000   \n",
      "\n",
      "           weighted avg  \n",
      "precision      0.614645  \n",
      "recall         0.672078  \n",
      "f1-score       0.563576  \n",
      "support      308.000000  \n",
      "_______________________________________________\n",
      "Confusion Matrix: \n",
      " [[  0   1   0   0  18]\n",
      " [  0   5   0   0  36]\n",
      " [  0   1   0   0  13]\n",
      " [  0   2   0   2  29]\n",
      " [  0   1   0   0 200]]\n",
      "\n"
     ]
    },
    {
     "name": "stderr",
     "output_type": "stream",
     "text": [
      "c:\\personal\\Code\\S6\\NLP\\.venv\\Lib\\site-packages\\sklearn\\metrics\\_classification.py:1565: UndefinedMetricWarning: Precision is ill-defined and being set to 0.0 in labels with no predicted samples. Use `zero_division` parameter to control this behavior.\n",
      "  _warn_prf(average, modifier, f\"{metric.capitalize()} is\", len(result))\n",
      "c:\\personal\\Code\\S6\\NLP\\.venv\\Lib\\site-packages\\sklearn\\metrics\\_classification.py:1565: UndefinedMetricWarning: Precision is ill-defined and being set to 0.0 in labels with no predicted samples. Use `zero_division` parameter to control this behavior.\n",
      "  _warn_prf(average, modifier, f\"{metric.capitalize()} is\", len(result))\n",
      "c:\\personal\\Code\\S6\\NLP\\.venv\\Lib\\site-packages\\sklearn\\metrics\\_classification.py:1565: UndefinedMetricWarning: Precision is ill-defined and being set to 0.0 in labels with no predicted samples. Use `zero_division` parameter to control this behavior.\n",
      "  _warn_prf(average, modifier, f\"{metric.capitalize()} is\", len(result))\n"
     ]
    }
   ],
   "source": [
    "from sklearn.model_selection import GridSearchCV\n",
    "\n",
    "params = {\"C\": np.logspace(-4, 4, 20),\n",
    "          \"solver\": [\"liblinear\"]}\n",
    "\n",
    "lr_clf = LogisticRegression()\n",
    "\n",
    "lr_cv = GridSearchCV(lr_clf, params, scoring=\"accuracy\", n_jobs=-1, verbose=1, cv=5)\n",
    "lr_cv.fit(X_train, y_train)\n",
    "best_params = lr_cv.best_params_\n",
    "print(f\"Best parameters: {best_params}\")\n",
    "lr_clf = LogisticRegression(**best_params)\n",
    "\n",
    "lr_clf.fit(X_train, y_train)\n",
    "\n",
    "print_score(lr_clf, X_train, y_train, X_test, y_test, train=True)\n",
    "print_score(lr_clf, X_train, y_train, X_test, y_test, train=False)"
   ]
  },
  {
   "cell_type": "code",
   "execution_count": 192,
   "id": "54b79c1e",
   "metadata": {},
   "outputs": [
    {
     "data": {
      "application/vnd.microsoft.datawrangler.viewer.v0+json": {
       "columns": [
        {
         "name": "index",
         "rawType": "int64",
         "type": "integer"
        },
        {
         "name": "Model",
         "rawType": "object",
         "type": "string"
        },
        {
         "name": "Training Accuracy %",
         "rawType": "float64",
         "type": "float"
        },
        {
         "name": "Testing Accuracy %",
         "rawType": "float64",
         "type": "float"
        }
       ],
       "conversionMethod": "pd.DataFrame",
       "ref": "57efa574-126d-41e9-9425-c6c0d7eb1e49",
       "rows": [
        [
         "0",
         "Tuned Logistic Regression",
         "100.0",
         "67.20779220779221"
        ]
       ],
       "shape": {
        "columns": 3,
        "rows": 1
       }
      },
      "text/html": [
       "<div>\n",
       "<style scoped>\n",
       "    .dataframe tbody tr th:only-of-type {\n",
       "        vertical-align: middle;\n",
       "    }\n",
       "\n",
       "    .dataframe tbody tr th {\n",
       "        vertical-align: top;\n",
       "    }\n",
       "\n",
       "    .dataframe thead th {\n",
       "        text-align: right;\n",
       "    }\n",
       "</style>\n",
       "<table border=\"1\" class=\"dataframe\">\n",
       "  <thead>\n",
       "    <tr style=\"text-align: right;\">\n",
       "      <th></th>\n",
       "      <th>Model</th>\n",
       "      <th>Training Accuracy %</th>\n",
       "      <th>Testing Accuracy %</th>\n",
       "    </tr>\n",
       "  </thead>\n",
       "  <tbody>\n",
       "    <tr>\n",
       "      <th>0</th>\n",
       "      <td>Tuned Logistic Regression</td>\n",
       "      <td>100.0</td>\n",
       "      <td>67.207792</td>\n",
       "    </tr>\n",
       "  </tbody>\n",
       "</table>\n",
       "</div>"
      ],
      "text/plain": [
       "                       Model  Training Accuracy %  Testing Accuracy %\n",
       "0  Tuned Logistic Regression                100.0           67.207792"
      ]
     },
     "execution_count": 192,
     "metadata": {},
     "output_type": "execute_result"
    }
   ],
   "source": [
    "test_score = accuracy_score(y_test, lr_clf.predict(X_test)) * 100\n",
    "train_score = accuracy_score(y_train, lr_clf.predict(X_train)) * 100\n",
    "\n",
    "tuning_results_df = pd.DataFrame(\n",
    "    data=[[\"Tuned Logistic Regression\", train_score, test_score]], \n",
    "    columns=['Model', 'Training Accuracy %', 'Testing Accuracy %']\n",
    ")\n",
    "tuning_results_df"
   ]
  },
  {
   "cell_type": "markdown",
   "id": "f4500c18",
   "metadata": {},
   "source": [
    "# 2. K-nearest neighbors Hyperparameter Tuning"
   ]
  },
  {
   "cell_type": "code",
   "execution_count": 188,
   "id": "ac41bcb1",
   "metadata": {},
   "outputs": [],
   "source": [
    "train_score = []\n",
    "test_score = []\n",
    "neighbors = range(1, 30)\n",
    "\n",
    "for k in neighbors:\n",
    "    model = KNeighborsClassifier(n_neighbors=k)\n",
    "    model.fit(X_train, y_train)\n",
    "    train_score.append(accuracy_score(y_train, model.predict(X_train)))\n",
    "#     test_score.append(accuracy_score(y_test, model.predict(X_test)))"
   ]
  },
  {
   "cell_type": "code",
   "execution_count": 189,
   "id": "14dbd622",
   "metadata": {},
   "outputs": [
    {
     "name": "stdout",
     "output_type": "stream",
     "text": [
      "Maximum KNN score on the test data: 100.00%\n"
     ]
    },
    {
     "data": {
      "image/png": "[encoded data removed]",
      "text/plain": [
       "<Figure size 1000x700 with 1 Axes>"
      ]
     },
     "metadata": {},
     "output_type": "display_data"
    }
   ],
   "source": [
    "import matplotlib.pyplot as plt\n",
    "import seaborn as sns\n",
    "import numpy as np\n",
    "\n",
    "plt.figure(figsize=(10, 7))\n",
    "\n",
    "plt.plot(neighbors, train_score, label=\"Train score\")\n",
    "# plt.plot(neighbors, test_score, label=\"Test score\")\n",
    "plt.xticks(np.arange(1, 21, 1))\n",
    "plt.xlabel(\"Number of neighbors\")\n",
    "plt.ylabel(\"Model score\")\n",
    "plt.legend()\n",
    "\n",
    "print(f\"Maximum KNN score on the test data: {max(train_score)*100:.2f}%\")\n",
    "\n"
   ]
  },
  {
   "cell_type": "code",
   "execution_count": 190,
   "id": "41ba7071",
   "metadata": {},
   "outputs": [
    {
     "name": "stdout",
     "output_type": "stream",
     "text": [
      "Train Result:\n",
      "================================================\n",
      "Accuracy Score: 62.53%\n",
      "_______________________________________________\n",
      "CLASSIFICATION REPORT:\n",
      "              0           1     2          3           4  accuracy  \\\n",
      "precision   0.0    0.636364   0.0   1.000000    0.621969  0.625348   \n",
      "recall      0.0    0.064220   0.0   0.074074    1.000000  0.625348   \n",
      "f1-score    0.0    0.116667   0.0   0.137931    0.766931  0.625348   \n",
      "support    45.0  109.000000  47.0  81.000000  436.000000  0.625348   \n",
      "\n",
      "            macro avg  weighted avg  \n",
      "precision    0.451666      0.587106  \n",
      "recall       0.227659      0.625348  \n",
      "f1-score     0.204306      0.498984  \n",
      "support    718.000000    718.000000  \n",
      "_______________________________________________\n",
      "Confusion Matrix: \n",
      " [[  0   0   0   0  45]\n",
      " [  0   7   0   0 102]\n",
      " [  0   0   0   0  47]\n",
      " [  0   4   0   6  71]\n",
      " [  0   0   0   0 436]]\n",
      "\n",
      "Test Result:\n",
      "================================================\n",
      "Accuracy Score: 66.23%\n",
      "_______________________________________________\n",
      "CLASSIFICATION REPORT:\n",
      "              0          1     2     3           4  accuracy   macro avg  \\\n",
      "precision   0.0   0.625000   0.0   0.0    0.663333  0.662338    0.257667   \n",
      "recall      0.0   0.121951   0.0   0.0    0.990050  0.662338    0.222400   \n",
      "f1-score    0.0   0.204082   0.0   0.0    0.794411  0.662338    0.199699   \n",
      "support    19.0  41.000000  14.0  33.0  201.000000  0.662338  308.000000   \n",
      "\n",
      "           weighted avg  \n",
      "precision      0.516088  \n",
      "recall         0.662338  \n",
      "f1-score       0.545597  \n",
      "support      308.000000  \n",
      "_______________________________________________\n",
      "Confusion Matrix: \n",
      " [[  0   0   0   0  19]\n",
      " [  0   5   0   0  36]\n",
      " [  0   0   0   0  14]\n",
      " [  0   1   0   0  32]\n",
      " [  0   2   0   0 199]]\n",
      "\n"
     ]
    },
    {
     "name": "stderr",
     "output_type": "stream",
     "text": [
      "c:\\personal\\Code\\S6\\NLP\\.venv\\Lib\\site-packages\\sklearn\\metrics\\_classification.py:1565: UndefinedMetricWarning: Precision is ill-defined and being set to 0.0 in labels with no predicted samples. Use `zero_division` parameter to control this behavior.\n",
      "  _warn_prf(average, modifier, f\"{metric.capitalize()} is\", len(result))\n",
      "c:\\personal\\Code\\S6\\NLP\\.venv\\Lib\\site-packages\\sklearn\\metrics\\_classification.py:1565: UndefinedMetricWarning: Precision is ill-defined and being set to 0.0 in labels with no predicted samples. Use `zero_division` parameter to control this behavior.\n",
      "  _warn_prf(average, modifier, f\"{metric.capitalize()} is\", len(result))\n",
      "c:\\personal\\Code\\S6\\NLP\\.venv\\Lib\\site-packages\\sklearn\\metrics\\_classification.py:1565: UndefinedMetricWarning: Precision is ill-defined and being set to 0.0 in labels with no predicted samples. Use `zero_division` parameter to control this behavior.\n",
      "  _warn_prf(average, modifier, f\"{metric.capitalize()} is\", len(result))\n",
      "c:\\personal\\Code\\S6\\NLP\\.venv\\Lib\\site-packages\\sklearn\\metrics\\_classification.py:1565: UndefinedMetricWarning: Precision is ill-defined and being set to 0.0 in labels with no predicted samples. Use `zero_division` parameter to control this behavior.\n",
      "  _warn_prf(average, modifier, f\"{metric.capitalize()} is\", len(result))\n",
      "c:\\personal\\Code\\S6\\NLP\\.venv\\Lib\\site-packages\\sklearn\\metrics\\_classification.py:1565: UndefinedMetricWarning: Precision is ill-defined and being set to 0.0 in labels with no predicted samples. Use `zero_division` parameter to control this behavior.\n",
      "  _warn_prf(average, modifier, f\"{metric.capitalize()} is\", len(result))\n",
      "c:\\personal\\Code\\S6\\NLP\\.venv\\Lib\\site-packages\\sklearn\\metrics\\_classification.py:1565: UndefinedMetricWarning: Precision is ill-defined and being set to 0.0 in labels with no predicted samples. Use `zero_division` parameter to control this behavior.\n",
      "  _warn_prf(average, modifier, f\"{metric.capitalize()} is\", len(result))\n"
     ]
    }
   ],
   "source": [
    "knn_clf = KNeighborsClassifier(n_neighbors=27)\n",
    "knn_clf.fit(X_train, y_train)\n",
    "\n",
    "print_score(knn_clf, X_train, y_train, X_test, y_test, train=True)\n",
    "print_score(knn_clf, X_train, y_train, X_test, y_test, train=False)"
   ]
  },
  {
   "cell_type": "code",
   "execution_count": null,
   "id": "7b6042f6",
   "metadata": {},
   "outputs": [
    {
     "data": {
      "application/vnd.microsoft.datawrangler.viewer.v0+json": {
       "columns": [
        {
         "name": "index",
         "rawType": "int64",
         "type": "integer"
        },
        {
         "name": "Model",
         "rawType": "object",
         "type": "string"
        },
        {
         "name": "Training Accuracy %",
         "rawType": "float64",
         "type": "float"
        },
        {
         "name": "Testing Accuracy %",
         "rawType": "float64",
         "type": "float"
        }
       ],
       "conversionMethod": "pd.DataFrame",
       "ref": "9310a917-2a9c-488b-a9c8-f155deba323e",
       "rows": [
        [
         "0",
         "Tuned Logistic Regression",
         "100.0",
         "67.20779220779221"
        ],
        [
         "1",
         "Tuned K-nearest neighbors",
         "62.53481894150418",
         "66.23376623376623"
        ]
       ],
       "shape": {
        "columns": 3,
        "rows": 2
       }
      },
      "text/html": [
       "<div>\n",
       "<style scoped>\n",
       "    .dataframe tbody tr th:only-of-type {\n",
       "        vertical-align: middle;\n",
       "    }\n",
       "\n",
       "    .dataframe tbody tr th {\n",
       "        vertical-align: top;\n",
       "    }\n",
       "\n",
       "    .dataframe thead th {\n",
       "        text-align: right;\n",
       "    }\n",
       "</style>\n",
       "<table border=\"1\" class=\"dataframe\">\n",
       "  <thead>\n",
       "    <tr style=\"text-align: right;\">\n",
       "      <th></th>\n",
       "      <th>Model</th>\n",
       "      <th>Training Accuracy %</th>\n",
       "      <th>Testing Accuracy %</th>\n",
       "    </tr>\n",
       "  </thead>\n",
       "  <tbody>\n",
       "    <tr>\n",
       "      <th>0</th>\n",
       "      <td>Tuned Logistic Regression</td>\n",
       "      <td>100.000000</td>\n",
       "      <td>67.207792</td>\n",
       "    </tr>\n",
       "    <tr>\n",
       "      <th>1</th>\n",
       "      <td>Tuned K-nearest neighbors</td>\n",
       "      <td>62.534819</td>\n",
       "      <td>66.233766</td>\n",
       "    </tr>\n",
       "  </tbody>\n",
       "</table>\n",
       "</div>"
      ],
      "text/plain": [
       "                       Model  Training Accuracy %  Testing Accuracy %\n",
       "0  Tuned Logistic Regression           100.000000           67.207792\n",
       "1  Tuned K-nearest neighbors            62.534819           66.233766"
      ]
     },
     "execution_count": 193,
     "metadata": {},
     "output_type": "execute_result"
    }
   ],
   "source": [
    "test_score = accuracy_score(y_test, knn_clf.predict(X_test)) * 100\n",
    "train_score = accuracy_score(y_train, knn_clf.predict(X_train)) * 100\n",
    "\n",
    "results_df_2 = pd.DataFrame(\n",
    "    data=[[\"Tuned K-nearest neighbors\", train_score, test_score]], \n",
    "    columns=['Model', 'Training Accuracy %', 'Testing Accuracy %']\n",
    ")\n",
    "\n",
    "tuning_results_df = pd.concat([tuning_results_df, results_df_2], ignore_index=True)\n",
    "tuning_results_df"
   ]
  },
  {
   "cell_type": "markdown",
   "id": "404d8798",
   "metadata": {},
   "source": [
    "# 3. Support Vector Machine Hyperparameter Tuning"
   ]
  },
  {
   "cell_type": "code",
   "execution_count": 194,
   "id": "6a9fe4e0",
   "metadata": {},
   "outputs": [
    {
     "name": "stdout",
     "output_type": "stream",
     "text": [
      "Fitting 5 folds for each of 147 candidates, totalling 735 fits\n",
      "Best params: {'C': 10, 'gamma': 0.1, 'kernel': 'rbf'}\n",
      "Train Result:\n",
      "================================================\n",
      "Accuracy Score: 100.00%\n",
      "_______________________________________________\n",
      "CLASSIFICATION REPORT:\n",
      "              0      1     2     3      4  accuracy  macro avg  weighted avg\n",
      "precision   1.0    1.0   1.0   1.0    1.0       1.0        1.0           1.0\n",
      "recall      1.0    1.0   1.0   1.0    1.0       1.0        1.0           1.0\n",
      "f1-score    1.0    1.0   1.0   1.0    1.0       1.0        1.0           1.0\n",
      "support    45.0  109.0  47.0  81.0  436.0       1.0      718.0         718.0\n",
      "_______________________________________________\n",
      "Confusion Matrix: \n",
      " [[ 45   0   0   0   0]\n",
      " [  0 109   0   0   0]\n",
      " [  0   0  47   0   0]\n",
      " [  0   0   0  81   0]\n",
      " [  0   0   0   0 436]]\n",
      "\n",
      "Test Result:\n",
      "================================================\n",
      "Accuracy Score: 67.21%\n",
      "_______________________________________________\n",
      "CLASSIFICATION REPORT:\n",
      "              0          1     2          3           4  accuracy   macro avg  \\\n",
      "precision   0.0   0.461538   0.0   0.666667    0.681661  0.672078    0.361973   \n",
      "recall      0.0   0.146341   0.0   0.121212    0.980100  0.672078    0.249531   \n",
      "f1-score    0.0   0.222222   0.0   0.205128    0.804082  0.672078    0.246286   \n",
      "support    19.0  41.000000  14.0  33.000000  201.000000  0.672078  308.000000   \n",
      "\n",
      "           weighted avg  \n",
      "precision      0.577717  \n",
      "recall         0.672078  \n",
      "f1-score       0.576301  \n",
      "support      308.000000  \n",
      "_______________________________________________\n",
      "Confusion Matrix: \n",
      " [[  0   1   0   0  18]\n",
      " [  0   6   0   1  34]\n",
      " [  0   1   0   0  13]\n",
      " [  0   2   0   4  27]\n",
      " [  0   3   0   1 197]]\n",
      "\n"
     ]
    },
    {
     "name": "stderr",
     "output_type": "stream",
     "text": [
      "c:\\personal\\Code\\S6\\NLP\\.venv\\Lib\\site-packages\\sklearn\\metrics\\_classification.py:1565: UndefinedMetricWarning: Precision is ill-defined and being set to 0.0 in labels with no predicted samples. Use `zero_division` parameter to control this behavior.\n",
      "  _warn_prf(average, modifier, f\"{metric.capitalize()} is\", len(result))\n",
      "c:\\personal\\Code\\S6\\NLP\\.venv\\Lib\\site-packages\\sklearn\\metrics\\_classification.py:1565: UndefinedMetricWarning: Precision is ill-defined and being set to 0.0 in labels with no predicted samples. Use `zero_division` parameter to control this behavior.\n",
      "  _warn_prf(average, modifier, f\"{metric.capitalize()} is\", len(result))\n",
      "c:\\personal\\Code\\S6\\NLP\\.venv\\Lib\\site-packages\\sklearn\\metrics\\_classification.py:1565: UndefinedMetricWarning: Precision is ill-defined and being set to 0.0 in labels with no predicted samples. Use `zero_division` parameter to control this behavior.\n",
      "  _warn_prf(average, modifier, f\"{metric.capitalize()} is\", len(result))\n"
     ]
    }
   ],
   "source": [
    "svm_clf = SVC(kernel='rbf', gamma=0.1, C=1.0)\n",
    "\n",
    "params = {\"C\":(0.1, 0.5, 1, 2, 5, 10, 20), \n",
    "          \"gamma\":(0.001, 0.01, 0.1, 0.25, 0.5, 0.75, 1), \n",
    "          \"kernel\":('linear', 'poly', 'rbf')}\n",
    "\n",
    "svm_cv = GridSearchCV(svm_clf, params, n_jobs=-1, cv=5, verbose=1, scoring=\"accuracy\")\n",
    "svm_cv.fit(X_train, y_train)\n",
    "best_params = svm_cv.best_params_\n",
    "print(f\"Best params: {best_params}\")\n",
    "\n",
    "svm_clf = SVC(**best_params)\n",
    "svm_clf.fit(X_train, y_train)\n",
    "\n",
    "print_score(svm_clf, X_train, y_train, X_test, y_test, train=True)\n",
    "print_score(svm_clf, X_train, y_train, X_test, y_test, train=False)"
   ]
  },
  {
   "cell_type": "code",
   "execution_count": 195,
   "id": "1eebeb35",
   "metadata": {},
   "outputs": [
    {
     "data": {
      "application/vnd.microsoft.datawrangler.viewer.v0+json": {
       "columns": [
        {
         "name": "index",
         "rawType": "int64",
         "type": "integer"
        },
        {
         "name": "Model",
         "rawType": "object",
         "type": "string"
        },
        {
         "name": "Training Accuracy %",
         "rawType": "float64",
         "type": "float"
        },
        {
         "name": "Testing Accuracy %",
         "rawType": "float64",
         "type": "float"
        }
       ],
       "conversionMethod": "pd.DataFrame",
       "ref": "4ab32da3-e772-47bb-b13f-3f1d3064d0bc",
       "rows": [
        [
         "0",
         "Tuned Logistic Regression",
         "100.0",
         "67.20779220779221"
        ],
        [
         "1",
         "Tuned K-nearest neighbors",
         "62.53481894150418",
         "66.23376623376623"
        ],
        [
         "2",
         "Tuned Support Vector Machine",
         "100.0",
         "67.20779220779221"
        ]
       ],
       "shape": {
        "columns": 3,
        "rows": 3
       }
      },
      "text/html": [
       "<div>\n",
       "<style scoped>\n",
       "    .dataframe tbody tr th:only-of-type {\n",
       "        vertical-align: middle;\n",
       "    }\n",
       "\n",
       "    .dataframe tbody tr th {\n",
       "        vertical-align: top;\n",
       "    }\n",
       "\n",
       "    .dataframe thead th {\n",
       "        text-align: right;\n",
       "    }\n",
       "</style>\n",
       "<table border=\"1\" class=\"dataframe\">\n",
       "  <thead>\n",
       "    <tr style=\"text-align: right;\">\n",
       "      <th></th>\n",
       "      <th>Model</th>\n",
       "      <th>Training Accuracy %</th>\n",
       "      <th>Testing Accuracy %</th>\n",
       "    </tr>\n",
       "  </thead>\n",
       "  <tbody>\n",
       "    <tr>\n",
       "      <th>0</th>\n",
       "      <td>Tuned Logistic Regression</td>\n",
       "      <td>100.000000</td>\n",
       "      <td>67.207792</td>\n",
       "    </tr>\n",
       "    <tr>\n",
       "      <th>1</th>\n",
       "      <td>Tuned K-nearest neighbors</td>\n",
       "      <td>62.534819</td>\n",
       "      <td>66.233766</td>\n",
       "    </tr>\n",
       "    <tr>\n",
       "      <th>2</th>\n",
       "      <td>Tuned Support Vector Machine</td>\n",
       "      <td>100.000000</td>\n",
       "      <td>67.207792</td>\n",
       "    </tr>\n",
       "  </tbody>\n",
       "</table>\n",
       "</div>"
      ],
      "text/plain": [
       "                          Model  Training Accuracy %  Testing Accuracy %\n",
       "0     Tuned Logistic Regression           100.000000           67.207792\n",
       "1     Tuned K-nearest neighbors            62.534819           66.233766\n",
       "2  Tuned Support Vector Machine           100.000000           67.207792"
      ]
     },
     "execution_count": 195,
     "metadata": {},
     "output_type": "execute_result"
    }
   ],
   "source": [
    "test_score = accuracy_score(y_test, svm_clf.predict(X_test)) * 100\n",
    "train_score = accuracy_score(y_train, svm_clf.predict(X_train)) * 100\n",
    "\n",
    "results_df_2 = pd.DataFrame(\n",
    "    data=[[\"Tuned Support Vector Machine\", train_score, test_score]], \n",
    "    columns=['Model', 'Training Accuracy %', 'Testing Accuracy %']\n",
    ")\n",
    "tuning_results_df = pd.concat([tuning_results_df, results_df_2], ignore_index=True)\n",
    "tuning_results_df"
   ]
  },
  {
   "cell_type": "markdown",
   "id": "a13f667b",
   "metadata": {},
   "source": [
    "# 4. Decision Tree Classifier Hyperparameter Tuning"
   ]
  },
  {
   "cell_type": "code",
   "execution_count": 196,
   "id": "6bd95c6a",
   "metadata": {},
   "outputs": [
    {
     "name": "stdout",
     "output_type": "stream",
     "text": [
      "Fitting 5 folds for each of 4332 candidates, totalling 21660 fits\n",
      "Best_params: {'criterion': 'gini', 'max_depth': 5, 'min_samples_leaf': 5, 'min_samples_split': 2, 'splitter': 'best'}\n",
      "Train Result:\n",
      "================================================\n",
      "Accuracy Score: 67.69%\n",
      "_______________________________________________\n",
      "CLASSIFICATION REPORT:\n",
      "              0           1     2          3           4  accuracy  \\\n",
      "precision   0.0    0.818182   0.0   0.812500    0.663093   0.67688   \n",
      "recall      0.0    0.247706   0.0   0.320988    0.993119   0.67688   \n",
      "f1-score    0.0    0.380282   0.0   0.460177    0.795225   0.67688   \n",
      "support    45.0  109.000000  47.0  81.000000  436.000000   0.67688   \n",
      "\n",
      "            macro avg  weighted avg  \n",
      "precision    0.458755      0.618528  \n",
      "recall       0.312363      0.676880  \n",
      "f1-score     0.327137      0.592539  \n",
      "support    718.000000    718.000000  \n",
      "_______________________________________________\n",
      "Confusion Matrix: \n",
      " [[  0   1   0   2  42]\n",
      " [  0  27   0   1  81]\n",
      " [  0   0   0   0  47]\n",
      " [  0   5   0  26  50]\n",
      " [  0   0   0   3 433]]\n",
      "\n",
      "Test Result:\n",
      "================================================\n",
      "Accuracy Score: 69.81%\n",
      "_______________________________________________\n",
      "CLASSIFICATION REPORT:\n",
      "              0          1     2          3           4  accuracy   macro avg  \\\n",
      "precision   0.0   0.714286   0.0   0.687500    0.698246  0.698052    0.420006   \n",
      "recall      0.0   0.121951   0.0   0.333333    0.990050  0.698052    0.289067   \n",
      "f1-score    0.0   0.208333   0.0   0.448980    0.818930  0.698052    0.295249   \n",
      "support    19.0  41.000000  14.0  33.000000  201.000000  0.698052  308.000000   \n",
      "\n",
      "           weighted avg  \n",
      "precision      0.624417  \n",
      "recall         0.698052  \n",
      "f1-score       0.610269  \n",
      "support      308.000000  \n",
      "_______________________________________________\n",
      "Confusion Matrix: \n",
      " [[  0   0   0   2  17]\n",
      " [  0   5   0   1  35]\n",
      " [  0   0   0   0  14]\n",
      " [  0   2   0  11  20]\n",
      " [  0   0   0   2 199]]\n",
      "\n"
     ]
    },
    {
     "name": "stderr",
     "output_type": "stream",
     "text": [
      "c:\\personal\\Code\\S6\\NLP\\.venv\\Lib\\site-packages\\sklearn\\metrics\\_classification.py:1565: UndefinedMetricWarning: Precision is ill-defined and being set to 0.0 in labels with no predicted samples. Use `zero_division` parameter to control this behavior.\n",
      "  _warn_prf(average, modifier, f\"{metric.capitalize()} is\", len(result))\n",
      "c:\\personal\\Code\\S6\\NLP\\.venv\\Lib\\site-packages\\sklearn\\metrics\\_classification.py:1565: UndefinedMetricWarning: Precision is ill-defined and being set to 0.0 in labels with no predicted samples. Use `zero_division` parameter to control this behavior.\n",
      "  _warn_prf(average, modifier, f\"{metric.capitalize()} is\", len(result))\n",
      "c:\\personal\\Code\\S6\\NLP\\.venv\\Lib\\site-packages\\sklearn\\metrics\\_classification.py:1565: UndefinedMetricWarning: Precision is ill-defined and being set to 0.0 in labels with no predicted samples. Use `zero_division` parameter to control this behavior.\n",
      "  _warn_prf(average, modifier, f\"{metric.capitalize()} is\", len(result))\n",
      "c:\\personal\\Code\\S6\\NLP\\.venv\\Lib\\site-packages\\sklearn\\metrics\\_classification.py:1565: UndefinedMetricWarning: Precision is ill-defined and being set to 0.0 in labels with no predicted samples. Use `zero_division` parameter to control this behavior.\n",
      "  _warn_prf(average, modifier, f\"{metric.capitalize()} is\", len(result))\n",
      "c:\\personal\\Code\\S6\\NLP\\.venv\\Lib\\site-packages\\sklearn\\metrics\\_classification.py:1565: UndefinedMetricWarning: Precision is ill-defined and being set to 0.0 in labels with no predicted samples. Use `zero_division` parameter to control this behavior.\n",
      "  _warn_prf(average, modifier, f\"{metric.capitalize()} is\", len(result))\n",
      "c:\\personal\\Code\\S6\\NLP\\.venv\\Lib\\site-packages\\sklearn\\metrics\\_classification.py:1565: UndefinedMetricWarning: Precision is ill-defined and being set to 0.0 in labels with no predicted samples. Use `zero_division` parameter to control this behavior.\n",
      "  _warn_prf(average, modifier, f\"{metric.capitalize()} is\", len(result))\n"
     ]
    }
   ],
   "source": [
    "params = {\"criterion\":(\"gini\", \"entropy\"), \n",
    "          \"splitter\":(\"best\", \"random\"), \n",
    "          \"max_depth\":(list(range(1, 20))), \n",
    "          \"min_samples_split\":[2, 3, 4], \n",
    "          \"min_samples_leaf\":list(range(1, 20))\n",
    "          }\n",
    "\n",
    "tree_clf = DecisionTreeClassifier(random_state=42)\n",
    "tree_cv = GridSearchCV(tree_clf, params, scoring=\"accuracy\", n_jobs=-1, verbose=1, cv=5)\n",
    "tree_cv.fit(X_train, y_train)\n",
    "best_params = tree_cv.best_params_\n",
    "print(f'Best_params: {best_params}')\n",
    "\n",
    "tree_clf = DecisionTreeClassifier(**best_params)\n",
    "tree_clf.fit(X_train, y_train)\n",
    "\n",
    "print_score(tree_clf, X_train, y_train, X_test, y_test, train=True)\n",
    "print_score(tree_clf, X_train, y_train, X_test, y_test, train=False)"
   ]
  },
  {
   "cell_type": "code",
   "execution_count": 197,
   "id": "e1733840",
   "metadata": {},
   "outputs": [
    {
     "data": {
      "application/vnd.microsoft.datawrangler.viewer.v0+json": {
       "columns": [
        {
         "name": "index",
         "rawType": "int64",
         "type": "integer"
        },
        {
         "name": "Model",
         "rawType": "object",
         "type": "string"
        },
        {
         "name": "Training Accuracy %",
         "rawType": "float64",
         "type": "float"
        },
        {
         "name": "Testing Accuracy %",
         "rawType": "float64",
         "type": "float"
        }
       ],
       "conversionMethod": "pd.DataFrame",
       "ref": "659a7c3b-2440-4002-8a4b-00b38888f66c",
       "rows": [
        [
         "0",
         "Tuned Logistic Regression",
         "100.0",
         "67.20779220779221"
        ],
        [
         "1",
         "Tuned K-nearest neighbors",
         "62.53481894150418",
         "66.23376623376623"
        ],
        [
         "2",
         "Tuned Support Vector Machine",
         "100.0",
         "67.20779220779221"
        ],
        [
         "3",
         "Tuned Decision Tree Classifier",
         "67.68802228412257",
         "69.8051948051948"
        ]
       ],
       "shape": {
        "columns": 3,
        "rows": 4
       }
      },
      "text/html": [
       "<div>\n",
       "<style scoped>\n",
       "    .dataframe tbody tr th:only-of-type {\n",
       "        vertical-align: middle;\n",
       "    }\n",
       "\n",
       "    .dataframe tbody tr th {\n",
       "        vertical-align: top;\n",
       "    }\n",
       "\n",
       "    .dataframe thead th {\n",
       "        text-align: right;\n",
       "    }\n",
       "</style>\n",
       "<table border=\"1\" class=\"dataframe\">\n",
       "  <thead>\n",
       "    <tr style=\"text-align: right;\">\n",
       "      <th></th>\n",
       "      <th>Model</th>\n",
       "      <th>Training Accuracy %</th>\n",
       "      <th>Testing Accuracy %</th>\n",
       "    </tr>\n",
       "  </thead>\n",
       "  <tbody>\n",
       "    <tr>\n",
       "      <th>0</th>\n",
       "      <td>Tuned Logistic Regression</td>\n",
       "      <td>100.000000</td>\n",
       "      <td>67.207792</td>\n",
       "    </tr>\n",
       "    <tr>\n",
       "      <th>1</th>\n",
       "      <td>Tuned K-nearest neighbors</td>\n",
       "      <td>62.534819</td>\n",
       "      <td>66.233766</td>\n",
       "    </tr>\n",
       "    <tr>\n",
       "      <th>2</th>\n",
       "      <td>Tuned Support Vector Machine</td>\n",
       "      <td>100.000000</td>\n",
       "      <td>67.207792</td>\n",
       "    </tr>\n",
       "    <tr>\n",
       "      <th>3</th>\n",
       "      <td>Tuned Decision Tree Classifier</td>\n",
       "      <td>67.688022</td>\n",
       "      <td>69.805195</td>\n",
       "    </tr>\n",
       "  </tbody>\n",
       "</table>\n",
       "</div>"
      ],
      "text/plain": [
       "                            Model  Training Accuracy %  Testing Accuracy %\n",
       "0       Tuned Logistic Regression           100.000000           67.207792\n",
       "1       Tuned K-nearest neighbors            62.534819           66.233766\n",
       "2    Tuned Support Vector Machine           100.000000           67.207792\n",
       "3  Tuned Decision Tree Classifier            67.688022           69.805195"
      ]
     },
     "execution_count": 197,
     "metadata": {},
     "output_type": "execute_result"
    }
   ],
   "source": [
    "test_score = accuracy_score(y_test, tree_clf.predict(X_test)) * 100\n",
    "train_score = accuracy_score(y_train, tree_clf.predict(X_train)) * 100\n",
    "\n",
    "results_df_2 = pd.DataFrame(\n",
    "    data=[[\"Tuned Decision Tree Classifier\", train_score, test_score]], \n",
    "    columns=['Model', 'Training Accuracy %', 'Testing Accuracy %']\n",
    ")\n",
    "tuning_results_df = pd.concat([tuning_results_df, results_df_2], ignore_index=True)\n",
    "tuning_results_df"
   ]
  },
  {
   "cell_type": "markdown",
   "id": "1c85c615",
   "metadata": {},
   "source": [
    "# 5. Random Forest Classifier Hyperparameter Tuning"
   ]
  },
  {
   "cell_type": "code",
   "execution_count": 198,
   "id": "dc48b850",
   "metadata": {},
   "outputs": [
    {
     "name": "stdout",
     "output_type": "stream",
     "text": [
      "Fitting 5 folds for each of 432 candidates, totalling 2160 fits\n"
     ]
    },
    {
     "name": "stderr",
     "output_type": "stream",
     "text": [
      "c:\\personal\\Code\\S6\\NLP\\.venv\\Lib\\site-packages\\sklearn\\model_selection\\_validation.py:528: FitFailedWarning: \n",
      "1080 fits failed out of a total of 2160.\n",
      "The score on these train-test partitions for these parameters will be set to nan.\n",
      "If these failures are not expected, you can try to debug them by setting error_score='raise'.\n",
      "\n",
      "Below are more details about the failures:\n",
      "--------------------------------------------------------------------------------\n",
      "364 fits failed with the following error:\n",
      "Traceback (most recent call last):\n",
      "  File \"c:\\personal\\Code\\S6\\NLP\\.venv\\Lib\\site-packages\\sklearn\\model_selection\\_validation.py\", line 866, in _fit_and_score\n",
      "    estimator.fit(X_train, y_train, **fit_params)\n",
      "  File \"c:\\personal\\Code\\S6\\NLP\\.venv\\Lib\\site-packages\\sklearn\\base.py\", line 1382, in wrapper\n",
      "    estimator._validate_params()\n",
      "  File \"c:\\personal\\Code\\S6\\NLP\\.venv\\Lib\\site-packages\\sklearn\\base.py\", line 436, in _validate_params\n",
      "    validate_parameter_constraints(\n",
      "  File \"c:\\personal\\Code\\S6\\NLP\\.venv\\Lib\\site-packages\\sklearn\\utils\\_param_validation.py\", line 98, in validate_parameter_constraints\n",
      "    raise InvalidParameterError(\n",
      "sklearn.utils._param_validation.InvalidParameterError: The 'max_features' parameter of RandomForestClassifier must be an int in the range [1, inf), a float in the range (0.0, 1.0], a str among {'sqrt', 'log2'} or None. Got 'auto' instead.\n",
      "\n",
      "--------------------------------------------------------------------------------\n",
      "716 fits failed with the following error:\n",
      "Traceback (most recent call last):\n",
      "  File \"c:\\personal\\Code\\S6\\NLP\\.venv\\Lib\\site-packages\\sklearn\\model_selection\\_validation.py\", line 866, in _fit_and_score\n",
      "    estimator.fit(X_train, y_train, **fit_params)\n",
      "  File \"c:\\personal\\Code\\S6\\NLP\\.venv\\Lib\\site-packages\\sklearn\\base.py\", line 1382, in wrapper\n",
      "    estimator._validate_params()\n",
      "  File \"c:\\personal\\Code\\S6\\NLP\\.venv\\Lib\\site-packages\\sklearn\\base.py\", line 436, in _validate_params\n",
      "    validate_parameter_constraints(\n",
      "  File \"c:\\personal\\Code\\S6\\NLP\\.venv\\Lib\\site-packages\\sklearn\\utils\\_param_validation.py\", line 98, in validate_parameter_constraints\n",
      "    raise InvalidParameterError(\n",
      "sklearn.utils._param_validation.InvalidParameterError: The 'max_features' parameter of RandomForestClassifier must be an int in the range [1, inf), a float in the range (0.0, 1.0], a str among {'log2', 'sqrt'} or None. Got 'auto' instead.\n",
      "\n",
      "  warnings.warn(some_fits_failed_message, FitFailedWarning)\n",
      "c:\\personal\\Code\\S6\\NLP\\.venv\\Lib\\site-packages\\sklearn\\model_selection\\_search.py:1108: UserWarning: One or more of the test scores are non-finite: [       nan        nan        nan        nan        nan        nan\n",
      "        nan        nan        nan        nan        nan        nan\n",
      "        nan        nan        nan        nan        nan        nan\n",
      "        nan        nan        nan        nan        nan        nan\n",
      "        nan        nan        nan        nan        nan        nan\n",
      "        nan        nan        nan        nan        nan        nan\n",
      " 0.60724553 0.60724553 0.60724553 0.60724553 0.60724553 0.60724553\n",
      " 0.60724553 0.60724553 0.60724553 0.60724553 0.60724553 0.60724553\n",
      " 0.60724553 0.60724553 0.60724553 0.60724553 0.60724553 0.60724553\n",
      " 0.60724553 0.60724553 0.60724553 0.60724553 0.60724553 0.60724553\n",
      " 0.60724553 0.60724553 0.60724553 0.60724553 0.60724553 0.60724553\n",
      " 0.60724553 0.60724553 0.60724553 0.60724553 0.60724553 0.60724553\n",
      "        nan        nan        nan        nan        nan        nan\n",
      "        nan        nan        nan        nan        nan        nan\n",
      "        nan        nan        nan        nan        nan        nan\n",
      "        nan        nan        nan        nan        nan        nan\n",
      "        nan        nan        nan        nan        nan        nan\n",
      "        nan        nan        nan        nan        nan        nan\n",
      " 0.60724553 0.60724553 0.60724553 0.60724553 0.60724553 0.60724553\n",
      " 0.60724553 0.60724553 0.60724553 0.60724553 0.60724553 0.60724553\n",
      " 0.60724553 0.60724553 0.60724553 0.60724553 0.60724553 0.60724553\n",
      " 0.60724553 0.60724553 0.60724553 0.60724553 0.60724553 0.60724553\n",
      " 0.60724553 0.60724553 0.60724553 0.60724553 0.60724553 0.60724553\n",
      " 0.60724553 0.60724553 0.60724553 0.60724553 0.60724553 0.60724553\n",
      "        nan        nan        nan        nan        nan        nan\n",
      "        nan        nan        nan        nan        nan        nan\n",
      "        nan        nan        nan        nan        nan        nan\n",
      "        nan        nan        nan        nan        nan        nan\n",
      "        nan        nan        nan        nan        nan        nan\n",
      "        nan        nan        nan        nan        nan        nan\n",
      " 0.60724553 0.60724553 0.60724553 0.60724553 0.60724553 0.60724553\n",
      " 0.60724553 0.60724553 0.60724553 0.60724553 0.60724553 0.60724553\n",
      " 0.60724553 0.60724553 0.60724553 0.60724553 0.60724553 0.60724553\n",
      " 0.60724553 0.60724553 0.60724553 0.60724553 0.60724553 0.60724553\n",
      " 0.60724553 0.60724553 0.60724553 0.60724553 0.60724553 0.60724553\n",
      " 0.60724553 0.60724553 0.60724553 0.60724553 0.60724553 0.60724553\n",
      "        nan        nan        nan        nan        nan        nan\n",
      "        nan        nan        nan        nan        nan        nan\n",
      "        nan        nan        nan        nan        nan        nan\n",
      "        nan        nan        nan        nan        nan        nan\n",
      "        nan        nan        nan        nan        nan        nan\n",
      "        nan        nan        nan        nan        nan        nan\n",
      " 0.60724553 0.60724553 0.60724553 0.60724553 0.60724553 0.60724553\n",
      " 0.60724553 0.60724553 0.60724553 0.60724553 0.60724553 0.60724553\n",
      " 0.60724553 0.60724553 0.60724553 0.60724553 0.60724553 0.60724553\n",
      " 0.60724553 0.60724553 0.60724553 0.60724553 0.60724553 0.60724553\n",
      " 0.60724553 0.60724553 0.60724553 0.60724553 0.60724553 0.60724553\n",
      " 0.60724553 0.60724553 0.60724553 0.60724553 0.60724553 0.60724553\n",
      "        nan        nan        nan        nan        nan        nan\n",
      "        nan        nan        nan        nan        nan        nan\n",
      "        nan        nan        nan        nan        nan        nan\n",
      "        nan        nan        nan        nan        nan        nan\n",
      "        nan        nan        nan        nan        nan        nan\n",
      "        nan        nan        nan        nan        nan        nan\n",
      " 0.60724553 0.60724553 0.60724553 0.60724553 0.60724553 0.60724553\n",
      " 0.60724553 0.60724553 0.60724553 0.60724553 0.60724553 0.60724553\n",
      " 0.60724553 0.60724553 0.60724553 0.60724553 0.60724553 0.60724553\n",
      " 0.60724553 0.60724553 0.60724553 0.60724553 0.60724553 0.60724553\n",
      " 0.60724553 0.60724553 0.60724553 0.60724553 0.60724553 0.60724553\n",
      " 0.60724553 0.60724553 0.60724553 0.60724553 0.60724553 0.60724553\n",
      "        nan        nan        nan        nan        nan        nan\n",
      "        nan        nan        nan        nan        nan        nan\n",
      "        nan        nan        nan        nan        nan        nan\n",
      "        nan        nan        nan        nan        nan        nan\n",
      "        nan        nan        nan        nan        nan        nan\n",
      "        nan        nan        nan        nan        nan        nan\n",
      " 0.65463287 0.65463287 0.65463287 0.65463287 0.65603147 0.65603147\n",
      " 0.65603147 0.65603147 0.65603147 0.65603147 0.65603147 0.65603147\n",
      " 0.6406857  0.6406857  0.6392871  0.6392871  0.6406857  0.6406857\n",
      " 0.6392871  0.6392871  0.6406857  0.6406857  0.6392871  0.6392871\n",
      " 0.60724553 0.60724553 0.60724553 0.60724553 0.60724553 0.60724553\n",
      " 0.60724553 0.60724553 0.60724553 0.60724553 0.60724553 0.60724553]\n",
      "  warnings.warn(\n"
     ]
    },
    {
     "name": "stdout",
     "output_type": "stream",
     "text": [
      "Best parameters: {'max_depth': None, 'max_features': 'sqrt', 'min_samples_leaf': 1, 'min_samples_split': 5, 'n_estimators': 500}\n",
      "Train Result:\n",
      "================================================\n",
      "Accuracy Score: 99.86%\n",
      "_______________________________________________\n",
      "CLASSIFICATION REPORT:\n",
      "              0           1     2          3      4  accuracy   macro avg  \\\n",
      "precision   1.0    0.990909   1.0   1.000000    1.0  0.998607    0.998182   \n",
      "recall      1.0    1.000000   1.0   0.987654    1.0  0.998607    0.997531   \n",
      "f1-score    1.0    0.995434   1.0   0.993789    1.0  0.998607    0.997845   \n",
      "support    45.0  109.000000  47.0  81.000000  436.0  0.998607  718.000000   \n",
      "\n",
      "           weighted avg  \n",
      "precision      0.998620  \n",
      "recall         0.998607  \n",
      "f1-score       0.998606  \n",
      "support      718.000000  \n",
      "_______________________________________________\n",
      "Confusion Matrix: \n",
      " [[ 45   0   0   0   0]\n",
      " [  0 109   0   0   0]\n",
      " [  0   0  47   0   0]\n",
      " [  0   1   0  80   0]\n",
      " [  0   0   0   0 436]]\n",
      "\n",
      "Test Result:\n",
      "================================================\n",
      "Accuracy Score: 69.48%\n",
      "_______________________________________________\n",
      "CLASSIFICATION REPORT:\n",
      "              0          1     2          3           4  accuracy   macro avg  \\\n",
      "precision   0.0   0.625000   0.0   0.833333    0.690972  0.694805    0.429861   \n",
      "recall      0.0   0.121951   0.0   0.303030    0.990050  0.694805    0.283006   \n",
      "f1-score    0.0   0.204082   0.0   0.444444    0.813906  0.694805    0.292486   \n",
      "support    19.0  41.000000  14.0  33.000000  201.000000  0.694805  308.000000   \n",
      "\n",
      "           weighted avg  \n",
      "precision      0.623410  \n",
      "recall         0.694805  \n",
      "f1-score       0.605939  \n",
      "support      308.000000  \n",
      "_______________________________________________\n",
      "Confusion Matrix: \n",
      " [[  0   0   0   0  19]\n",
      " [  0   5   0   1  35]\n",
      " [  0   1   0   0  13]\n",
      " [  0   1   0  10  22]\n",
      " [  0   1   0   1 199]]\n",
      "\n"
     ]
    },
    {
     "name": "stderr",
     "output_type": "stream",
     "text": [
      "c:\\personal\\Code\\S6\\NLP\\.venv\\Lib\\site-packages\\sklearn\\metrics\\_classification.py:1565: UndefinedMetricWarning: Precision is ill-defined and being set to 0.0 in labels with no predicted samples. Use `zero_division` parameter to control this behavior.\n",
      "  _warn_prf(average, modifier, f\"{metric.capitalize()} is\", len(result))\n",
      "c:\\personal\\Code\\S6\\NLP\\.venv\\Lib\\site-packages\\sklearn\\metrics\\_classification.py:1565: UndefinedMetricWarning: Precision is ill-defined and being set to 0.0 in labels with no predicted samples. Use `zero_division` parameter to control this behavior.\n",
      "  _warn_prf(average, modifier, f\"{metric.capitalize()} is\", len(result))\n",
      "c:\\personal\\Code\\S6\\NLP\\.venv\\Lib\\site-packages\\sklearn\\metrics\\_classification.py:1565: UndefinedMetricWarning: Precision is ill-defined and being set to 0.0 in labels with no predicted samples. Use `zero_division` parameter to control this behavior.\n",
      "  _warn_prf(average, modifier, f\"{metric.capitalize()} is\", len(result))\n"
     ]
    }
   ],
   "source": [
    "n_estimators = [500, 900, 1100, 1500]\n",
    "max_features = ['auto', 'sqrt']\n",
    "max_depth = [2, 3, 5, 10, 15, None]\n",
    "min_samples_split = [2, 5, 10]\n",
    "min_samples_leaf = [1, 2, 4]\n",
    "\n",
    "params_grid = {\n",
    "    'n_estimators': n_estimators, \n",
    "    'max_features': max_features,\n",
    "    'max_depth': max_depth, \n",
    "    'min_samples_split': min_samples_split,\n",
    "    'min_samples_leaf': min_samples_leaf\n",
    "              }\n",
    "\n",
    "rf_clf = RandomForestClassifier(random_state=42)\n",
    "rf_cv = GridSearchCV(rf_clf, params_grid, scoring=\"accuracy\", cv=5, verbose=1, n_jobs=-1)\n",
    "rf_cv.fit(X_train, y_train)\n",
    "best_params = rf_cv.best_params_\n",
    "print(f\"Best parameters: {best_params}\")\n",
    "\n",
    "rf_clf = RandomForestClassifier(**best_params)\n",
    "rf_clf.fit(X_train, y_train)\n",
    "\n",
    "print_score(rf_clf, X_train, y_train, X_test, y_test, train=True)\n",
    "print_score(rf_clf, X_train, y_train, X_test, y_test, train=False)"
   ]
  },
  {
   "cell_type": "code",
   "execution_count": 199,
   "id": "f1bf82f2",
   "metadata": {},
   "outputs": [
    {
     "data": {
      "application/vnd.microsoft.datawrangler.viewer.v0+json": {
       "columns": [
        {
         "name": "index",
         "rawType": "int64",
         "type": "integer"
        },
        {
         "name": "Model",
         "rawType": "object",
         "type": "string"
        },
        {
         "name": "Training Accuracy %",
         "rawType": "float64",
         "type": "float"
        },
        {
         "name": "Testing Accuracy %",
         "rawType": "float64",
         "type": "float"
        }
       ],
       "conversionMethod": "pd.DataFrame",
       "ref": "67e7eee8-8e5b-4000-807f-dc03d042ea57",
       "rows": [
        [
         "0",
         "Tuned Logistic Regression",
         "100.0",
         "67.20779220779221"
        ],
        [
         "1",
         "Tuned K-nearest neighbors",
         "62.53481894150418",
         "66.23376623376623"
        ],
        [
         "2",
         "Tuned Support Vector Machine",
         "100.0",
         "67.20779220779221"
        ],
        [
         "3",
         "Tuned Decision Tree Classifier",
         "67.68802228412257",
         "69.8051948051948"
        ],
        [
         "4",
         "Tuned Random Forest Classifier",
         "99.86072423398329",
         "69.48051948051948"
        ]
       ],
       "shape": {
        "columns": 3,
        "rows": 5
       }
      },
      "text/html": [
       "<div>\n",
       "<style scoped>\n",
       "    .dataframe tbody tr th:only-of-type {\n",
       "        vertical-align: middle;\n",
       "    }\n",
       "\n",
       "    .dataframe tbody tr th {\n",
       "        vertical-align: top;\n",
       "    }\n",
       "\n",
       "    .dataframe thead th {\n",
       "        text-align: right;\n",
       "    }\n",
       "</style>\n",
       "<table border=\"1\" class=\"dataframe\">\n",
       "  <thead>\n",
       "    <tr style=\"text-align: right;\">\n",
       "      <th></th>\n",
       "      <th>Model</th>\n",
       "      <th>Training Accuracy %</th>\n",
       "      <th>Testing Accuracy %</th>\n",
       "    </tr>\n",
       "  </thead>\n",
       "  <tbody>\n",
       "    <tr>\n",
       "      <th>0</th>\n",
       "      <td>Tuned Logistic Regression</td>\n",
       "      <td>100.000000</td>\n",
       "      <td>67.207792</td>\n",
       "    </tr>\n",
       "    <tr>\n",
       "      <th>1</th>\n",
       "      <td>Tuned K-nearest neighbors</td>\n",
       "      <td>62.534819</td>\n",
       "      <td>66.233766</td>\n",
       "    </tr>\n",
       "    <tr>\n",
       "      <th>2</th>\n",
       "      <td>Tuned Support Vector Machine</td>\n",
       "      <td>100.000000</td>\n",
       "      <td>67.207792</td>\n",
       "    </tr>\n",
       "    <tr>\n",
       "      <th>3</th>\n",
       "      <td>Tuned Decision Tree Classifier</td>\n",
       "      <td>67.688022</td>\n",
       "      <td>69.805195</td>\n",
       "    </tr>\n",
       "    <tr>\n",
       "      <th>4</th>\n",
       "      <td>Tuned Random Forest Classifier</td>\n",
       "      <td>99.860724</td>\n",
       "      <td>69.480519</td>\n",
       "    </tr>\n",
       "  </tbody>\n",
       "</table>\n",
       "</div>"
      ],
      "text/plain": [
       "                            Model  Training Accuracy %  Testing Accuracy %\n",
       "0       Tuned Logistic Regression           100.000000           67.207792\n",
       "1       Tuned K-nearest neighbors            62.534819           66.233766\n",
       "2    Tuned Support Vector Machine           100.000000           67.207792\n",
       "3  Tuned Decision Tree Classifier            67.688022           69.805195\n",
       "4  Tuned Random Forest Classifier            99.860724           69.480519"
      ]
     },
     "execution_count": 199,
     "metadata": {},
     "output_type": "execute_result"
    }
   ],
   "source": [
    "test_score = accuracy_score(y_test, rf_clf.predict(X_test)) * 100\n",
    "train_score = accuracy_score(y_train, rf_clf.predict(X_train)) * 100\n",
    "\n",
    "results_df_2 = pd.DataFrame(\n",
    "    data=[[\"Tuned Random Forest Classifier\", train_score, test_score]], \n",
    "    columns=['Model', 'Training Accuracy %', 'Testing Accuracy %']\n",
    ")\n",
    "tuning_results_df = pd.concat([tuning_results_df, results_df_2], ignore_index=True)\n",
    "tuning_results_df"
   ]
  },
  {
   "cell_type": "markdown",
   "id": "ab111821",
   "metadata": {},
   "source": [
    "# 6. XGBoost Classifier Hyperparameter Tuning"
   ]
  },
  {
   "cell_type": "code",
   "execution_count": 200,
   "id": "13f90089",
   "metadata": {},
   "outputs": [
    {
     "name": "stdout",
     "output_type": "stream",
     "text": [
      "Fitting 5 folds for each of 150 candidates, totalling 750 fits\n"
     ]
    },
    {
     "ename": "KeyboardInterrupt",
     "evalue": "",
     "output_type": "error",
     "traceback": [
      "\u001b[31m---------------------------------------------------------------------------\u001b[39m",
      "\u001b[31mKeyboardInterrupt\u001b[39m                         Traceback (most recent call last)",
      "\u001b[36mCell\u001b[39m\u001b[36m \u001b[39m\u001b[32mIn[200]\u001b[39m\u001b[32m, line 14\u001b[39m\n\u001b[32m      9\u001b[39m xgb_clf = XGBClassifier(use_label_encoder=\u001b[38;5;28;01mFalse\u001b[39;00m)\n\u001b[32m     10\u001b[39m xgb_cv = RandomizedSearchCV(\n\u001b[32m     11\u001b[39m     xgb_clf, param_grid, cv=\u001b[32m5\u001b[39m, n_iter=\u001b[32m150\u001b[39m, \n\u001b[32m     12\u001b[39m     scoring=\u001b[33m'\u001b[39m\u001b[33maccuracy\u001b[39m\u001b[33m'\u001b[39m, n_jobs=-\u001b[32m1\u001b[39m, verbose=\u001b[32m1\u001b[39m\n\u001b[32m     13\u001b[39m )\n\u001b[32m---> \u001b[39m\u001b[32m14\u001b[39m \u001b[43mxgb_cv\u001b[49m\u001b[43m.\u001b[49m\u001b[43mfit\u001b[49m\u001b[43m(\u001b[49m\u001b[43mX_train\u001b[49m\u001b[43m,\u001b[49m\u001b[43m \u001b[49m\u001b[43my_train\u001b[49m\u001b[43m)\u001b[49m\n\u001b[32m     15\u001b[39m best_params = xgb_cv.best_params_\n\u001b[32m     16\u001b[39m \u001b[38;5;28mprint\u001b[39m(\u001b[33mf\u001b[39m\u001b[33m\"\u001b[39m\u001b[33mBest paramters: \u001b[39m\u001b[38;5;132;01m{\u001b[39;00mbest_params\u001b[38;5;132;01m}\u001b[39;00m\u001b[33m\"\u001b[39m)\n",
      "\u001b[36mFile \u001b[39m\u001b[32mc:\\personal\\Code\\S6\\NLP\\.venv\\Lib\\site-packages\\sklearn\\base.py:1389\u001b[39m, in \u001b[36m_fit_context.<locals>.decorator.<locals>.wrapper\u001b[39m\u001b[34m(estimator, *args, **kwargs)\u001b[39m\n\u001b[32m   1382\u001b[39m     estimator._validate_params()\n\u001b[32m   1384\u001b[39m \u001b[38;5;28;01mwith\u001b[39;00m config_context(\n\u001b[32m   1385\u001b[39m     skip_parameter_validation=(\n\u001b[32m   1386\u001b[39m         prefer_skip_nested_validation \u001b[38;5;129;01mor\u001b[39;00m global_skip_validation\n\u001b[32m   1387\u001b[39m     )\n\u001b[32m   1388\u001b[39m ):\n\u001b[32m-> \u001b[39m\u001b[32m1389\u001b[39m     \u001b[38;5;28;01mreturn\u001b[39;00m \u001b[43mfit_method\u001b[49m\u001b[43m(\u001b[49m\u001b[43mestimator\u001b[49m\u001b[43m,\u001b[49m\u001b[43m \u001b[49m\u001b[43m*\u001b[49m\u001b[43margs\u001b[49m\u001b[43m,\u001b[49m\u001b[43m \u001b[49m\u001b[43m*\u001b[49m\u001b[43m*\u001b[49m\u001b[43mkwargs\u001b[49m\u001b[43m)\u001b[49m\n",
      "\u001b[36mFile \u001b[39m\u001b[32mc:\\personal\\Code\\S6\\NLP\\.venv\\Lib\\site-packages\\sklearn\\model_selection\\_search.py:1024\u001b[39m, in \u001b[36mBaseSearchCV.fit\u001b[39m\u001b[34m(self, X, y, **params)\u001b[39m\n\u001b[32m   1018\u001b[39m     results = \u001b[38;5;28mself\u001b[39m._format_results(\n\u001b[32m   1019\u001b[39m         all_candidate_params, n_splits, all_out, all_more_results\n\u001b[32m   1020\u001b[39m     )\n\u001b[32m   1022\u001b[39m     \u001b[38;5;28;01mreturn\u001b[39;00m results\n\u001b[32m-> \u001b[39m\u001b[32m1024\u001b[39m \u001b[38;5;28;43mself\u001b[39;49m\u001b[43m.\u001b[49m\u001b[43m_run_search\u001b[49m\u001b[43m(\u001b[49m\u001b[43mevaluate_candidates\u001b[49m\u001b[43m)\u001b[49m\n\u001b[32m   1026\u001b[39m \u001b[38;5;66;03m# multimetric is determined here because in the case of a callable\u001b[39;00m\n\u001b[32m   1027\u001b[39m \u001b[38;5;66;03m# self.scoring the return type is only known after calling\u001b[39;00m\n\u001b[32m   1028\u001b[39m first_test_score = all_out[\u001b[32m0\u001b[39m][\u001b[33m\"\u001b[39m\u001b[33mtest_scores\u001b[39m\u001b[33m\"\u001b[39m]\n",
      "\u001b[36mFile \u001b[39m\u001b[32mc:\\personal\\Code\\S6\\NLP\\.venv\\Lib\\site-packages\\sklearn\\model_selection\\_search.py:1951\u001b[39m, in \u001b[36mRandomizedSearchCV._run_search\u001b[39m\u001b[34m(self, evaluate_candidates)\u001b[39m\n\u001b[32m   1949\u001b[39m \u001b[38;5;28;01mdef\u001b[39;00m\u001b[38;5;250m \u001b[39m\u001b[34m_run_search\u001b[39m(\u001b[38;5;28mself\u001b[39m, evaluate_candidates):\n\u001b[32m   1950\u001b[39m \u001b[38;5;250m    \u001b[39m\u001b[33;03m\"\"\"Search n_iter candidates from param_distributions\"\"\"\u001b[39;00m\n\u001b[32m-> \u001b[39m\u001b[32m1951\u001b[39m     \u001b[43mevaluate_candidates\u001b[49m\u001b[43m(\u001b[49m\n\u001b[32m   1952\u001b[39m \u001b[43m        \u001b[49m\u001b[43mParameterSampler\u001b[49m\u001b[43m(\u001b[49m\n\u001b[32m   1953\u001b[39m \u001b[43m            \u001b[49m\u001b[38;5;28;43mself\u001b[39;49m\u001b[43m.\u001b[49m\u001b[43mparam_distributions\u001b[49m\u001b[43m,\u001b[49m\u001b[43m \u001b[49m\u001b[38;5;28;43mself\u001b[39;49m\u001b[43m.\u001b[49m\u001b[43mn_iter\u001b[49m\u001b[43m,\u001b[49m\u001b[43m \u001b[49m\u001b[43mrandom_state\u001b[49m\u001b[43m=\u001b[49m\u001b[38;5;28;43mself\u001b[39;49m\u001b[43m.\u001b[49m\u001b[43mrandom_state\u001b[49m\n\u001b[32m   1954\u001b[39m \u001b[43m        \u001b[49m\u001b[43m)\u001b[49m\n\u001b[32m   1955\u001b[39m \u001b[43m    \u001b[49m\u001b[43m)\u001b[49m\n",
      "\u001b[36mFile \u001b[39m\u001b[32mc:\\personal\\Code\\S6\\NLP\\.venv\\Lib\\site-packages\\sklearn\\model_selection\\_search.py:970\u001b[39m, in \u001b[36mBaseSearchCV.fit.<locals>.evaluate_candidates\u001b[39m\u001b[34m(candidate_params, cv, more_results)\u001b[39m\n\u001b[32m    962\u001b[39m \u001b[38;5;28;01mif\u001b[39;00m \u001b[38;5;28mself\u001b[39m.verbose > \u001b[32m0\u001b[39m:\n\u001b[32m    963\u001b[39m     \u001b[38;5;28mprint\u001b[39m(\n\u001b[32m    964\u001b[39m         \u001b[33m\"\u001b[39m\u001b[33mFitting \u001b[39m\u001b[38;5;132;01m{0}\u001b[39;00m\u001b[33m folds for each of \u001b[39m\u001b[38;5;132;01m{1}\u001b[39;00m\u001b[33m candidates,\u001b[39m\u001b[33m\"\u001b[39m\n\u001b[32m    965\u001b[39m         \u001b[33m\"\u001b[39m\u001b[33m totalling \u001b[39m\u001b[38;5;132;01m{2}\u001b[39;00m\u001b[33m fits\u001b[39m\u001b[33m\"\u001b[39m.format(\n\u001b[32m    966\u001b[39m             n_splits, n_candidates, n_candidates * n_splits\n\u001b[32m    967\u001b[39m         )\n\u001b[32m    968\u001b[39m     )\n\u001b[32m--> \u001b[39m\u001b[32m970\u001b[39m out = \u001b[43mparallel\u001b[49m\u001b[43m(\u001b[49m\n\u001b[32m    971\u001b[39m \u001b[43m    \u001b[49m\u001b[43mdelayed\u001b[49m\u001b[43m(\u001b[49m\u001b[43m_fit_and_score\u001b[49m\u001b[43m)\u001b[49m\u001b[43m(\u001b[49m\n\u001b[32m    972\u001b[39m \u001b[43m        \u001b[49m\u001b[43mclone\u001b[49m\u001b[43m(\u001b[49m\u001b[43mbase_estimator\u001b[49m\u001b[43m)\u001b[49m\u001b[43m,\u001b[49m\n\u001b[32m    973\u001b[39m \u001b[43m        \u001b[49m\u001b[43mX\u001b[49m\u001b[43m,\u001b[49m\n\u001b[32m    974\u001b[39m \u001b[43m        \u001b[49m\u001b[43my\u001b[49m\u001b[43m,\u001b[49m\n\u001b[32m    975\u001b[39m \u001b[43m        \u001b[49m\u001b[43mtrain\u001b[49m\u001b[43m=\u001b[49m\u001b[43mtrain\u001b[49m\u001b[43m,\u001b[49m\n\u001b[32m    976\u001b[39m \u001b[43m        \u001b[49m\u001b[43mtest\u001b[49m\u001b[43m=\u001b[49m\u001b[43mtest\u001b[49m\u001b[43m,\u001b[49m\n\u001b[32m    977\u001b[39m \u001b[43m        \u001b[49m\u001b[43mparameters\u001b[49m\u001b[43m=\u001b[49m\u001b[43mparameters\u001b[49m\u001b[43m,\u001b[49m\n\u001b[32m    978\u001b[39m \u001b[43m        \u001b[49m\u001b[43msplit_progress\u001b[49m\u001b[43m=\u001b[49m\u001b[43m(\u001b[49m\u001b[43msplit_idx\u001b[49m\u001b[43m,\u001b[49m\u001b[43m \u001b[49m\u001b[43mn_splits\u001b[49m\u001b[43m)\u001b[49m\u001b[43m,\u001b[49m\n\u001b[32m    979\u001b[39m \u001b[43m        \u001b[49m\u001b[43mcandidate_progress\u001b[49m\u001b[43m=\u001b[49m\u001b[43m(\u001b[49m\u001b[43mcand_idx\u001b[49m\u001b[43m,\u001b[49m\u001b[43m \u001b[49m\u001b[43mn_candidates\u001b[49m\u001b[43m)\u001b[49m\u001b[43m,\u001b[49m\n\u001b[32m    980\u001b[39m \u001b[43m        \u001b[49m\u001b[43m*\u001b[49m\u001b[43m*\u001b[49m\u001b[43mfit_and_score_kwargs\u001b[49m\u001b[43m,\u001b[49m\n\u001b[32m    981\u001b[39m \u001b[43m    \u001b[49m\u001b[43m)\u001b[49m\n\u001b[32m    982\u001b[39m \u001b[43m    \u001b[49m\u001b[38;5;28;43;01mfor\u001b[39;49;00m\u001b[43m \u001b[49m\u001b[43m(\u001b[49m\u001b[43mcand_idx\u001b[49m\u001b[43m,\u001b[49m\u001b[43m \u001b[49m\u001b[43mparameters\u001b[49m\u001b[43m)\u001b[49m\u001b[43m,\u001b[49m\u001b[43m \u001b[49m\u001b[43m(\u001b[49m\u001b[43msplit_idx\u001b[49m\u001b[43m,\u001b[49m\u001b[43m \u001b[49m\u001b[43m(\u001b[49m\u001b[43mtrain\u001b[49m\u001b[43m,\u001b[49m\u001b[43m \u001b[49m\u001b[43mtest\u001b[49m\u001b[43m)\u001b[49m\u001b[43m)\u001b[49m\u001b[43m \u001b[49m\u001b[38;5;129;43;01min\u001b[39;49;00m\u001b[43m \u001b[49m\u001b[43mproduct\u001b[49m\u001b[43m(\u001b[49m\n\u001b[32m    983\u001b[39m \u001b[43m        \u001b[49m\u001b[38;5;28;43menumerate\u001b[39;49m\u001b[43m(\u001b[49m\u001b[43mcandidate_params\u001b[49m\u001b[43m)\u001b[49m\u001b[43m,\u001b[49m\n\u001b[32m    984\u001b[39m \u001b[43m        \u001b[49m\u001b[38;5;28;43menumerate\u001b[39;49m\u001b[43m(\u001b[49m\u001b[43mcv\u001b[49m\u001b[43m.\u001b[49m\u001b[43msplit\u001b[49m\u001b[43m(\u001b[49m\u001b[43mX\u001b[49m\u001b[43m,\u001b[49m\u001b[43m \u001b[49m\u001b[43my\u001b[49m\u001b[43m,\u001b[49m\u001b[43m \u001b[49m\u001b[43m*\u001b[49m\u001b[43m*\u001b[49m\u001b[43mrouted_params\u001b[49m\u001b[43m.\u001b[49m\u001b[43msplitter\u001b[49m\u001b[43m.\u001b[49m\u001b[43msplit\u001b[49m\u001b[43m)\u001b[49m\u001b[43m)\u001b[49m\u001b[43m,\u001b[49m\n\u001b[32m    985\u001b[39m \u001b[43m    \u001b[49m\u001b[43m)\u001b[49m\n\u001b[32m    986\u001b[39m \u001b[43m\u001b[49m\u001b[43m)\u001b[49m\n\u001b[32m    988\u001b[39m \u001b[38;5;28;01mif\u001b[39;00m \u001b[38;5;28mlen\u001b[39m(out) < \u001b[32m1\u001b[39m:\n\u001b[32m    989\u001b[39m     \u001b[38;5;28;01mraise\u001b[39;00m \u001b[38;5;167;01mValueError\u001b[39;00m(\n\u001b[32m    990\u001b[39m         \u001b[33m\"\u001b[39m\u001b[33mNo fits were performed. \u001b[39m\u001b[33m\"\u001b[39m\n\u001b[32m    991\u001b[39m         \u001b[33m\"\u001b[39m\u001b[33mWas the CV iterator empty? \u001b[39m\u001b[33m\"\u001b[39m\n\u001b[32m    992\u001b[39m         \u001b[33m\"\u001b[39m\u001b[33mWere there no candidates?\u001b[39m\u001b[33m\"\u001b[39m\n\u001b[32m    993\u001b[39m     )\n",
      "\u001b[36mFile \u001b[39m\u001b[32mc:\\personal\\Code\\S6\\NLP\\.venv\\Lib\\site-packages\\sklearn\\utils\\parallel.py:77\u001b[39m, in \u001b[36mParallel.__call__\u001b[39m\u001b[34m(self, iterable)\u001b[39m\n\u001b[32m     72\u001b[39m config = get_config()\n\u001b[32m     73\u001b[39m iterable_with_config = (\n\u001b[32m     74\u001b[39m     (_with_config(delayed_func, config), args, kwargs)\n\u001b[32m     75\u001b[39m     \u001b[38;5;28;01mfor\u001b[39;00m delayed_func, args, kwargs \u001b[38;5;129;01min\u001b[39;00m iterable\n\u001b[32m     76\u001b[39m )\n\u001b[32m---> \u001b[39m\u001b[32m77\u001b[39m \u001b[38;5;28;01mreturn\u001b[39;00m \u001b[38;5;28;43msuper\u001b[39;49m\u001b[43m(\u001b[49m\u001b[43m)\u001b[49m\u001b[43m.\u001b[49m\u001b[34;43m__call__\u001b[39;49m\u001b[43m(\u001b[49m\u001b[43miterable_with_config\u001b[49m\u001b[43m)\u001b[49m\n",
      "\u001b[36mFile \u001b[39m\u001b[32mc:\\personal\\Code\\S6\\NLP\\.venv\\Lib\\site-packages\\joblib\\parallel.py:2007\u001b[39m, in \u001b[36mParallel.__call__\u001b[39m\u001b[34m(self, iterable)\u001b[39m\n\u001b[32m   2001\u001b[39m \u001b[38;5;66;03m# The first item from the output is blank, but it makes the interpreter\u001b[39;00m\n\u001b[32m   2002\u001b[39m \u001b[38;5;66;03m# progress until it enters the Try/Except block of the generator and\u001b[39;00m\n\u001b[32m   2003\u001b[39m \u001b[38;5;66;03m# reaches the first `yield` statement. This starts the asynchronous\u001b[39;00m\n\u001b[32m   2004\u001b[39m \u001b[38;5;66;03m# dispatch of the tasks to the workers.\u001b[39;00m\n\u001b[32m   2005\u001b[39m \u001b[38;5;28mnext\u001b[39m(output)\n\u001b[32m-> \u001b[39m\u001b[32m2007\u001b[39m \u001b[38;5;28;01mreturn\u001b[39;00m output \u001b[38;5;28;01mif\u001b[39;00m \u001b[38;5;28mself\u001b[39m.return_generator \u001b[38;5;28;01melse\u001b[39;00m \u001b[38;5;28;43mlist\u001b[39;49m\u001b[43m(\u001b[49m\u001b[43moutput\u001b[49m\u001b[43m)\u001b[49m\n",
      "\u001b[36mFile \u001b[39m\u001b[32mc:\\personal\\Code\\S6\\NLP\\.venv\\Lib\\site-packages\\joblib\\parallel.py:1650\u001b[39m, in \u001b[36mParallel._get_outputs\u001b[39m\u001b[34m(self, iterator, pre_dispatch)\u001b[39m\n\u001b[32m   1647\u001b[39m     \u001b[38;5;28;01myield\u001b[39;00m\n\u001b[32m   1649\u001b[39m     \u001b[38;5;28;01mwith\u001b[39;00m \u001b[38;5;28mself\u001b[39m._backend.retrieval_context():\n\u001b[32m-> \u001b[39m\u001b[32m1650\u001b[39m         \u001b[38;5;28;01myield from\u001b[39;00m \u001b[38;5;28mself\u001b[39m._retrieve()\n\u001b[32m   1652\u001b[39m \u001b[38;5;28;01mexcept\u001b[39;00m \u001b[38;5;167;01mGeneratorExit\u001b[39;00m:\n\u001b[32m   1653\u001b[39m     \u001b[38;5;66;03m# The generator has been garbage collected before being fully\u001b[39;00m\n\u001b[32m   1654\u001b[39m     \u001b[38;5;66;03m# consumed. This aborts the remaining tasks if possible and warn\u001b[39;00m\n\u001b[32m   1655\u001b[39m     \u001b[38;5;66;03m# the user if necessary.\u001b[39;00m\n\u001b[32m   1656\u001b[39m     \u001b[38;5;28mself\u001b[39m._exception = \u001b[38;5;28;01mTrue\u001b[39;00m\n",
      "\u001b[36mFile \u001b[39m\u001b[32mc:\\personal\\Code\\S6\\NLP\\.venv\\Lib\\site-packages\\joblib\\parallel.py:1762\u001b[39m, in \u001b[36mParallel._retrieve\u001b[39m\u001b[34m(self)\u001b[39m\n\u001b[32m   1757\u001b[39m \u001b[38;5;66;03m# If the next job is not ready for retrieval yet, we just wait for\u001b[39;00m\n\u001b[32m   1758\u001b[39m \u001b[38;5;66;03m# async callbacks to progress.\u001b[39;00m\n\u001b[32m   1759\u001b[39m \u001b[38;5;28;01mif\u001b[39;00m ((\u001b[38;5;28mlen\u001b[39m(\u001b[38;5;28mself\u001b[39m._jobs) == \u001b[32m0\u001b[39m) \u001b[38;5;129;01mor\u001b[39;00m\n\u001b[32m   1760\u001b[39m     (\u001b[38;5;28mself\u001b[39m._jobs[\u001b[32m0\u001b[39m].get_status(\n\u001b[32m   1761\u001b[39m         timeout=\u001b[38;5;28mself\u001b[39m.timeout) == TASK_PENDING)):\n\u001b[32m-> \u001b[39m\u001b[32m1762\u001b[39m     \u001b[43mtime\u001b[49m\u001b[43m.\u001b[49m\u001b[43msleep\u001b[49m\u001b[43m(\u001b[49m\u001b[32;43m0.01\u001b[39;49m\u001b[43m)\u001b[49m\n\u001b[32m   1763\u001b[39m     \u001b[38;5;28;01mcontinue\u001b[39;00m\n\u001b[32m   1765\u001b[39m \u001b[38;5;66;03m# We need to be careful: the job list can be filling up as\u001b[39;00m\n\u001b[32m   1766\u001b[39m \u001b[38;5;66;03m# we empty it and Python list are not thread-safe by\u001b[39;00m\n\u001b[32m   1767\u001b[39m \u001b[38;5;66;03m# default hence the use of the lock\u001b[39;00m\n",
      "\u001b[31mKeyboardInterrupt\u001b[39m: "
     ]
    }
   ],
   "source": [
    "from scipy import stats\n",
    "\n",
    "param_grid = dict(\n",
    "    n_estimators=stats.randint(10, 1000),\n",
    "    max_depth=stats.randint(1, 10),\n",
    "    learning_rate=stats.uniform(0, 1)\n",
    ")\n",
    "\n",
    "xgb_clf = XGBClassifier(use_label_encoder=False)\n",
    "xgb_cv = RandomizedSearchCV(\n",
    "    xgb_clf, param_grid, cv=5, n_iter=150, \n",
    "    scoring='accuracy', n_jobs=-1, verbose=1\n",
    ")\n",
    "xgb_cv.fit(X_train, y_train)\n",
    "best_params = xgb_cv.best_params_\n",
    "print(f\"Best paramters: {best_params}\")\n",
    "\n",
    "xgb_clf = XGBClassifier(**best_params)\n",
    "xgb_clf.fit(X_train, y_train)\n",
    "\n",
    "print_score(xgb_clf, X_train, y_train, X_test, y_test, train=True)\n",
    "print_score(xgb_clf, X_train, y_train, X_test, y_test, train=False)"
   ]
  },
  {
   "cell_type": "code",
   "execution_count": null,
   "id": "f38f2d25",
   "metadata": {},
   "outputs": [],
   "source": [
    "test_score = accuracy_score(y_test, xgb_clf.predict(X_test)) * 100\n",
    "train_score = accuracy_score(y_train, xgb_clf.predict(X_train)) * 100\n",
    "\n",
    "results_df_2 = pd.DataFrame(\n",
    "    data=[[\"Tuned XGBoost Classifier\", train_score, test_score]], \n",
    "    columns=['Model', 'Training Accuracy %', 'Testing Accuracy %']\n",
    ")\n",
    "tuning_results_df = pd.concat([tuning_results_df, results_df_2], ignore_index=True)\n",
    "tuning_results_df"
   ]
  },
  {
   "cell_type": "code",
   "execution_count": null,
   "id": "9045dcb9",
   "metadata": {},
   "outputs": [],
   "source": [
    "results_df"
   ]
  },
  {
   "cell_type": "markdown",
   "id": "4ef0d5cd",
   "metadata": {},
   "source": [
    "# 6. Features Importance According to Random Forest and XGBoost"
   ]
  },
  {
   "cell_type": "code",
   "execution_count": 203,
   "id": "383629fe",
   "metadata": {},
   "outputs": [],
   "source": [
    "def feature_imp(df, model):\n",
    "    fi = pd.DataFrame()\n",
    "    fi[\"feature\"] = df.Text\n",
    "    fi[\"importance\"] = model.feature_importances_\n",
    "    return fi.sort_values(by=\"importance\", ascending=False)"
   ]
  },
  {
   "cell_type": "code",
   "execution_count": 204,
   "id": "0ba98b3c",
   "metadata": {},
   "outputs": [
    {
     "ename": "AttributeError",
     "evalue": "'csr_matrix' object has no attribute 'Text'",
     "output_type": "error",
     "traceback": [
      "\u001b[31m---------------------------------------------------------------------------\u001b[39m",
      "\u001b[31mAttributeError\u001b[39m                            Traceback (most recent call last)",
      "\u001b[36mCell\u001b[39m\u001b[36m \u001b[39m\u001b[32mIn[204]\u001b[39m\u001b[32m, line 1\u001b[39m\n\u001b[32m----> \u001b[39m\u001b[32m1\u001b[39m \u001b[43mfeature_imp\u001b[49m\u001b[43m(\u001b[49m\u001b[43mX\u001b[49m\u001b[43m,\u001b[49m\u001b[43m \u001b[49m\u001b[43mrf_clf\u001b[49m\u001b[43m)\u001b[49m.plot(kind=\u001b[33m'\u001b[39m\u001b[33mbarh\u001b[39m\u001b[33m'\u001b[39m, figsize=(\u001b[32m12\u001b[39m,\u001b[32m7\u001b[39m), legend=\u001b[38;5;28;01mFalse\u001b[39;00m)\n",
      "\u001b[36mCell\u001b[39m\u001b[36m \u001b[39m\u001b[32mIn[203]\u001b[39m\u001b[32m, line 3\u001b[39m, in \u001b[36mfeature_imp\u001b[39m\u001b[34m(df, model)\u001b[39m\n\u001b[32m      1\u001b[39m \u001b[38;5;28;01mdef\u001b[39;00m\u001b[38;5;250m \u001b[39m\u001b[34mfeature_imp\u001b[39m(df, model):\n\u001b[32m      2\u001b[39m     fi = pd.DataFrame()\n\u001b[32m----> \u001b[39m\u001b[32m3\u001b[39m     fi[\u001b[33m\"\u001b[39m\u001b[33mfeature\u001b[39m\u001b[33m\"\u001b[39m] = \u001b[43mdf\u001b[49m\u001b[43m.\u001b[49m\u001b[43mText\u001b[49m\n\u001b[32m      4\u001b[39m     fi[\u001b[33m\"\u001b[39m\u001b[33mimportance\u001b[39m\u001b[33m\"\u001b[39m] = model.feature_importances_\n\u001b[32m      5\u001b[39m     \u001b[38;5;28;01mreturn\u001b[39;00m fi.sort_values(by=\u001b[33m\"\u001b[39m\u001b[33mimportance\u001b[39m\u001b[33m\"\u001b[39m, ascending=\u001b[38;5;28;01mFalse\u001b[39;00m)\n",
      "\u001b[31mAttributeError\u001b[39m: 'csr_matrix' object has no attribute 'Text'"
     ]
    }
   ],
   "source": [
    "feature_imp(X, rf_clf).plot(kind='barh', figsize=(12,7), legend=False)"
   ]
  },
  {
   "cell_type": "code",
   "execution_count": null,
   "id": "5b11a6d9",
   "metadata": {},
   "outputs": [],
   "source": [
    "feature_imp(X, xgb_clf).plot(kind='barh', figsize=(12,7), legend=False)"
   ]
  }
 ],
 "metadata": {
  "kernelspec": {
   "display_name": ".venv",
   "language": "python",
   "name": "python3"
  },
  "language_info": {
   "codemirror_mode": {
    "name": "ipython",
    "version": 3
   },
   "file_extension": ".py",
   "mimetype": "text/x-python",
   "name": "python",
   "nbconvert_exporter": "python",
   "pygments_lexer": "ipython3",
   "version": "3.12.3"
  }
 },
 "nbformat": 4,
 "nbformat_minor": 5
}
